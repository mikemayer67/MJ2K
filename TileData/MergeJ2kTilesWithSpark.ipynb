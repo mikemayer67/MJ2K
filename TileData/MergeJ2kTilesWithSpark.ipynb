{
 "cells": [
  {
   "cell_type": "code",
   "execution_count": 1,
   "metadata": {},
   "outputs": [],
   "source": [
    "from pyspark.sql import SparkSession\n",
    "import numpy as np"
   ]
  },
  {
   "cell_type": "code",
   "execution_count": 2,
   "metadata": {},
   "outputs": [],
   "source": [
    "sc = SparkSession.builder.appName('Untitled').getOrCreate().sparkContext"
   ]
  },
  {
   "cell_type": "markdown",
   "metadata": {},
   "source": [
    "# Load tile data into RDD"
   ]
  },
  {
   "cell_type": "code",
   "execution_count": 3,
   "metadata": {},
   "outputs": [],
   "source": [
    "tileIndicesRdd = sc.parallelize([i for i in range(70)])"
   ]
  },
  {
   "cell_type": "code",
   "execution_count": 4,
   "metadata": {},
   "outputs": [],
   "source": [
    "def loadTileData(tileIndex):\n",
    "    filename = f\"frog_dog8x8_tile{tileIndex:02d}.j2k\"\n",
    "    with open(filename,\"rb\") as j2k_file:\n",
    "        j2k_data = j2k_file.read()\n",
    "    return j2k_data\n",
    "\n",
    "tileDataRdd = tileIndicesRdd.map(loadTileData)"
   ]
  },
  {
   "cell_type": "markdown",
   "metadata": {},
   "source": [
    "# Examine tile data structure"
   ]
  },
  {
   "cell_type": "code",
   "execution_count": 5,
   "metadata": {
    "scrolled": false
   },
   "outputs": [
    {
     "data": {
      "text/plain": [
       "[{'sot': 125, 'sod': 187, 'eod': 1435218},\n",
       " {'sot': 125, 'sod': 187, 'eod': 1092016},\n",
       " {'sot': 125, 'sod': 187, 'eod': 1246233},\n",
       " {'sot': 125, 'sod': 187, 'eod': 1272080},\n",
       " {'sot': 125, 'sod': 187, 'eod': 1357103},\n",
       " {'sot': 125, 'sod': 187, 'eod': 1408908},\n",
       " {'sot': 125, 'sod': 187, 'eod': 1414039},\n",
       " {'sot': 125, 'sod': 187, 'eod': 1387895},\n",
       " {'sot': 125, 'sod': 187, 'eod': 1069497},\n",
       " {'sot': 125, 'sod': 184, 'eod': 633083},\n",
       " {'sot': 125, 'sod': 187, 'eod': 1608113},\n",
       " {'sot': 125, 'sod': 187, 'eod': 1278186},\n",
       " {'sot': 125, 'sod': 187, 'eod': 1439036},\n",
       " {'sot': 125, 'sod': 187, 'eod': 1429876},\n",
       " {'sot': 125, 'sod': 187, 'eod': 1525465},\n",
       " {'sot': 125, 'sod': 187, 'eod': 1585143},\n",
       " {'sot': 125, 'sod': 187, 'eod': 1566476},\n",
       " {'sot': 125, 'sod': 187, 'eod': 1551768},\n",
       " {'sot': 125, 'sod': 187, 'eod': 1266694},\n",
       " {'sot': 125, 'sod': 184, 'eod': 675430},\n",
       " {'sot': 125, 'sod': 187, 'eod': 1603448},\n",
       " {'sot': 125, 'sod': 187, 'eod': 1259712},\n",
       " {'sot': 125, 'sod': 187, 'eod': 1442520},\n",
       " {'sot': 125, 'sod': 187, 'eod': 1415600},\n",
       " {'sot': 125, 'sod': 187, 'eod': 1481840},\n",
       " {'sot': 125, 'sod': 187, 'eod': 1540437},\n",
       " {'sot': 125, 'sod': 187, 'eod': 1590725},\n",
       " {'sot': 125, 'sod': 187, 'eod': 1542105},\n",
       " {'sot': 125, 'sod': 187, 'eod': 1253658},\n",
       " {'sot': 125, 'sod': 184, 'eod': 664451},\n",
       " {'sot': 125, 'sod': 187, 'eod': 1562459},\n",
       " {'sot': 125, 'sod': 187, 'eod': 1207418},\n",
       " {'sot': 125, 'sod': 187, 'eod': 1364899},\n",
       " {'sot': 125, 'sod': 187, 'eod': 1359555},\n",
       " {'sot': 125, 'sod': 187, 'eod': 1470486},\n",
       " {'sot': 125, 'sod': 187, 'eod': 1540051},\n",
       " {'sot': 125, 'sod': 187, 'eod': 1548239},\n",
       " {'sot': 125, 'sod': 187, 'eod': 1501408},\n",
       " {'sot': 125, 'sod': 187, 'eod': 1199912},\n",
       " {'sot': 125, 'sod': 184, 'eod': 666576},\n",
       " {'sot': 125, 'sod': 187, 'eod': 1471950},\n",
       " {'sot': 125, 'sod': 187, 'eod': 1125258},\n",
       " {'sot': 125, 'sod': 187, 'eod': 1269344},\n",
       " {'sot': 125, 'sod': 187, 'eod': 1321094},\n",
       " {'sot': 125, 'sod': 187, 'eod': 1396647},\n",
       " {'sot': 125, 'sod': 187, 'eod': 1445434},\n",
       " {'sot': 125, 'sod': 187, 'eod': 1452723},\n",
       " {'sot': 125, 'sod': 187, 'eod': 1419433},\n",
       " {'sot': 125, 'sod': 187, 'eod': 1107990},\n",
       " {'sot': 125, 'sod': 184, 'eod': 650158},\n",
       " {'sot': 125, 'sod': 187, 'eod': 1587660},\n",
       " {'sot': 125, 'sod': 187, 'eod': 1250565},\n",
       " {'sot': 125, 'sod': 187, 'eod': 1404504},\n",
       " {'sot': 125, 'sod': 187, 'eod': 1402843},\n",
       " {'sot': 125, 'sod': 187, 'eod': 1505297},\n",
       " {'sot': 125, 'sod': 187, 'eod': 1569695},\n",
       " {'sot': 125, 'sod': 187, 'eod': 1551660},\n",
       " {'sot': 125, 'sod': 187, 'eod': 1535784},\n",
       " {'sot': 125, 'sod': 187, 'eod': 1234271},\n",
       " {'sot': 125, 'sod': 184, 'eod': 672161},\n",
       " {'sot': 125, 'sod': 187, 'eod': 894236},\n",
       " {'sot': 125, 'sod': 184, 'eod': 706369},\n",
       " {'sot': 125, 'sod': 184, 'eod': 801793},\n",
       " {'sot': 125, 'sod': 184, 'eod': 784904},\n",
       " {'sot': 125, 'sod': 184, 'eod': 826595},\n",
       " {'sot': 125, 'sod': 187, 'eod': 856911},\n",
       " {'sot': 125, 'sod': 187, 'eod': 894080},\n",
       " {'sot': 125, 'sod': 187, 'eod': 854027},\n",
       " {'sot': 125, 'sod': 184, 'eod': 711353},\n",
       " {'sot': 125, 'sod': 184, 'eod': 365106}]"
      ]
     },
     "execution_count": 5,
     "metadata": {},
     "output_type": "execute_result"
    }
   ],
   "source": [
    "def getDataOffsets(data):\n",
    "    pos = 2\n",
    "    eot = len(data)\n",
    "    sot = None\n",
    "    sod = None\n",
    "    while sod is None and pos < eot:\n",
    "        marker = data[pos:pos+2].hex()\n",
    "        if marker == 'ff90':\n",
    "            sot  = pos\n",
    "            lsot = int.from_bytes(data[pos+2:pos+4],byteorder='big')\n",
    "            pos += 2 + lsot\n",
    "        elif marker == 'ff93':\n",
    "            sod = pos\n",
    "        else:\n",
    "            len_marker_segment = int.from_bytes(data[pos+2:pos+4],byteorder='big')\n",
    "            pos += 2 + len_marker_segment\n",
    "    \n",
    "    if sod is None:\n",
    "        return {}\n",
    "    \n",
    "    if data[-2:].hex() != 'ffd9':   # EOC\n",
    "        return {}\n",
    "    \n",
    "    return {'sot':sot, 'sod':sod, 'eod':eot-2}\n",
    "\n",
    "dataOffsetsRdd = tileDataRdd.map(getDataOffsets)\n",
    "dataOffsets = dataOffsetsRdd.collect()\n",
    "dataOffsets"
   ]
  },
  {
   "cell_type": "markdown",
   "metadata": {},
   "source": [
    "# Extract Main Header"
   ]
  },
  {
   "cell_type": "code",
   "execution_count": 6,
   "metadata": {
    "scrolled": false
   },
   "outputs": [
    {
     "data": {
      "text/plain": [
       "b'\\xffO\\xffQ\\x00/\\x00\\x00\\x00\\x00\\x04\\x00\\x00\\x00\\x04\\x00\\x00\\x00\\x00\\x00\\x00\\x00\\x00\\x00\\x00\\x00\\x04\\x00\\x00\\x00\\x04\\x00\\x00\\x00\\x00\\x00\\x00\\x00\\x00\\x00\\x00\\x03\\x07\\x01\\x01\\x07\\x01\\x01\\x07\\x01\\x01\\xffR\\x00\\x0c\\x00\\x00\\x00\\x01\\x00\\x05\\x04\\x04\\x00\\x01\\xff\\\\\\x00\\x13@@HHPHHPHHPHHPHHP\\xffd\\x00%\\x00\\x01Created by OpenJPEG version 2.4.0'"
      ]
     },
     "execution_count": 6,
     "metadata": {},
     "output_type": "execute_result"
    }
   ],
   "source": [
    "def extractMainHeader(tileData):\n",
    "    (data,offsets) = tileData\n",
    "    return data[ :offsets['sot'] ]\n",
    "\n",
    "mainHeader = tileDataRdd.zip(dataOffsetsRdd).map(extractMainHeader).first()\n",
    "mainHeader"
   ]
  },
  {
   "cell_type": "markdown",
   "metadata": {},
   "source": [
    "# Extract Tile Headers"
   ]
  },
  {
   "cell_type": "code",
   "execution_count": 7,
   "metadata": {
    "scrolled": false
   },
   "outputs": [],
   "source": [
    "def extractTileHeader(tileData):\n",
    "    (data,offsets) = tileData\n",
    "    return data[ offsets['sot']:offsets['sod'] ]\n",
    "\n",
    "def fixIsot(tileData):\n",
    "    (tileHeader,tileIndex) = tileData\n",
    "    Isot = tileIndex.to_bytes(2,byteorder='big')\n",
    "    return tileHeader[:4] + Isot + tileHeader[6:]\n",
    "\n",
    "tileHeadersRdd = tileDataRdd.zip(dataOffsetsRdd).map(extractTileHeader)\n",
    "newTileHeadersRdd = tileHeadersRdd.zip(tileIndicesRdd).map(fixIsot)"
   ]
  },
  {
   "cell_type": "markdown",
   "metadata": {},
   "source": [
    "### Verify corrected Isot"
   ]
  },
  {
   "cell_type": "code",
   "execution_count": 8,
   "metadata": {},
   "outputs": [
    {
     "name": "stdout",
     "output_type": "stream",
     "text": [
      "before\n",
      "[0, 0, 0, 0, 0, 0, 0, 0, 0, 0, 0, 0, 0, 0, 0, 0, 0, 0, 0, 0, 0, 0, 0, 0, 0, 0, 0, 0, 0, 0, 0, 0, 0, 0, 0, 0, 0, 0, 0, 0, 0, 0, 0, 0, 0, 0, 0, 0, 0, 0, 0, 0, 0, 0, 0, 0, 0, 0, 0, 0, 0, 0, 0, 0, 0, 0, 0, 0, 0, 0]\n",
      "after\n",
      "[0, 1, 2, 3, 4, 5, 6, 7, 8, 9, 10, 11, 12, 13, 14, 15, 16, 17, 18, 19, 20, 21, 22, 23, 24, 25, 26, 27, 28, 29, 30, 31, 32, 33, 34, 35, 36, 37, 38, 39, 40, 41, 42, 43, 44, 45, 46, 47, 48, 49, 50, 51, 52, 53, 54, 55, 56, 57, 58, 59, 60, 61, 62, 63, 64, 65, 66, 67, 68, 69]\n"
     ]
    }
   ],
   "source": [
    "def parseIsot(tileHeader):\n",
    "    return int.from_bytes(tileHeader[4:6],byteorder='big')\n",
    "\n",
    "print('before')\n",
    "print(list(map(parseIsot, tileHeadersRdd.collect())))\n",
    "print('after')\n",
    "print(list(map(parseIsot, newTileHeadersRdd.collect())))"
   ]
  },
  {
   "cell_type": "markdown",
   "metadata": {},
   "source": [
    "# Extract Tile Bitstream Data"
   ]
  },
  {
   "cell_type": "code",
   "execution_count": 9,
   "metadata": {},
   "outputs": [],
   "source": [
    "def extractTileBitstream(tileData):\n",
    "    (data,offsets) = tileData\n",
    "    return data[ offsets['sod']:offsets['eod'] ]\n",
    "\n",
    "tileBitstreamRdd = tileDataRdd.zip(dataOffsetsRdd).map(extractTileBitstream)"
   ]
  },
  {
   "cell_type": "markdown",
   "metadata": {},
   "source": [
    "# Modify SIZ marker segment\n",
    "\n",
    "***In actual code, will need to figure out what all in Main Header (and Tile Headers) needs to be modified.  For now, simply hardcoding the SIZ fields to reflect the size of the overall image***"
   ]
  },
  {
   "cell_type": "code",
   "execution_count": 10,
   "metadata": {},
   "outputs": [
    {
     "data": {
      "text/plain": [
       "{'Lsiz': 47,\n",
       " 'Rsiz': '0000',\n",
       " 'XSiz': 1024,\n",
       " 'YSiz': 1024,\n",
       " 'XOSiz': 0,\n",
       " 'YOSiz': 0,\n",
       " 'XTSiz': 1024,\n",
       " 'YTSiz': 1024,\n",
       " 'XTOSiz': 0,\n",
       " 'YTOSiz': 0,\n",
       " 'Csiz': 3,\n",
       " 'Ssiz': '07',\n",
       " 'XRsiz': 1,\n",
       " 'YRsiz': 1}"
      ]
     },
     "execution_count": 10,
     "metadata": {},
     "output_type": "execute_result"
    }
   ],
   "source": [
    "{\n",
    "    'Lsiz':int.from_bytes(mainHeader[4:6],byteorder='big'),\n",
    "    'Rsiz':mainHeader[6:8].hex(),\n",
    "    'XSiz':int.from_bytes(mainHeader[8:12],byteorder='big'),\n",
    "    'YSiz':int.from_bytes(mainHeader[12:16],byteorder='big'),\n",
    "    'XOSiz':int.from_bytes(mainHeader[16:20],byteorder='big'),\n",
    "    'YOSiz':int.from_bytes(mainHeader[20:24],byteorder='big'),\n",
    "    'XTSiz':int.from_bytes(mainHeader[24:28],byteorder='big'),\n",
    "    'YTSiz':int.from_bytes(mainHeader[28:32],byteorder='big'),\n",
    "    'XTOSiz':int.from_bytes(mainHeader[32:36],byteorder='big'),\n",
    "    'YTOSiz':int.from_bytes(mainHeader[36:40],byteorder='big'),\n",
    "    'Csiz':int.from_bytes(mainHeader[40:42],byteorder='big'),\n",
    "    'Ssiz':mainHeader[42:43].hex(),\n",
    "    'XRsiz':int.from_bytes(mainHeader[43:44],byteorder='big'),\n",
    "    'YRsiz':int.from_bytes(mainHeader[44:45],byteorder='big'),\n",
    "}"
   ]
  },
  {
   "cell_type": "code",
   "execution_count": 11,
   "metadata": {},
   "outputs": [
    {
     "data": {
      "text/plain": [
       "{'Lsiz': 47,\n",
       " 'Rsiz': '0000',\n",
       " 'XSiz': 9600,\n",
       " 'YSiz': 6680,\n",
       " 'XOSiz': 0,\n",
       " 'YOSiz': 0,\n",
       " 'XTSiz': 1024,\n",
       " 'YTSiz': 1024,\n",
       " 'XTOSiz': 0,\n",
       " 'YTOSiz': 0,\n",
       " 'Csiz': 3,\n",
       " 'Ssiz': '07',\n",
       " 'XRsiz': 1,\n",
       " 'YRsiz': 1}"
      ]
     },
     "execution_count": 11,
     "metadata": {},
     "output_type": "execute_result"
    }
   ],
   "source": [
    "newXSiz = 9*1024 + 384\n",
    "newYSiz = 6*1024 + 536\n",
    "\n",
    "newMainHeader = mainHeader[0:8] \\\n",
    "+ newXSiz.to_bytes(4,byteorder='big') \\\n",
    "+ newYSiz.to_bytes(4,byteorder='big') \\\n",
    "+ mainHeader[16:]\n",
    "\n",
    "{   'Lsiz':int.from_bytes(newMainHeader[4:6],byteorder='big'),\n",
    "    'Rsiz':newMainHeader[6:8].hex(),\n",
    "    'XSiz':int.from_bytes(newMainHeader[8:12],byteorder='big'),\n",
    "    'YSiz':int.from_bytes(newMainHeader[12:16],byteorder='big'),\n",
    "    'XOSiz':int.from_bytes(newMainHeader[16:20],byteorder='big'),\n",
    "    'YOSiz':int.from_bytes(newMainHeader[20:24],byteorder='big'),\n",
    "    'XTSiz':int.from_bytes(newMainHeader[24:28],byteorder='big'),\n",
    "    'YTSiz':int.from_bytes(newMainHeader[28:32],byteorder='big'),\n",
    "    'XTOSiz':int.from_bytes(newMainHeader[32:36],byteorder='big'),\n",
    "    'YTOSiz':int.from_bytes(newMainHeader[36:40],byteorder='big'),\n",
    "    'Csiz':int.from_bytes(newMainHeader[40:42],byteorder='big'),\n",
    "    'Ssiz':newMainHeader[42:43].hex(),\n",
    "    'XRsiz':int.from_bytes(newMainHeader[43:44],byteorder='big'),\n",
    "    'YRsiz':int.from_bytes(newMainHeader[44:45],byteorder='big'),\n",
    "}"
   ]
  },
  {
   "cell_type": "markdown",
   "metadata": {},
   "source": [
    "# Create new tile RDD with the modified headers\n",
    "\n",
    "### Start with main header (first tile only)"
   ]
  },
  {
   "cell_type": "code",
   "execution_count": 12,
   "metadata": {},
   "outputs": [
    {
     "name": "stdout",
     "output_type": "stream",
     "text": [
      "[125, 0, 0, 0, 0, 0, 0, 0, 0, 0, 0, 0, 0, 0, 0, 0, 0, 0, 0, 0, 0, 0, 0, 0, 0, 0, 0, 0, 0, 0, 0, 0, 0, 0, 0, 0, 0, 0, 0, 0, 0, 0, 0, 0, 0, 0, 0, 0, 0, 0, 0, 0, 0, 0, 0, 0, 0, 0, 0, 0, 0, 0, 0, 0, 0, 0, 0, 0, 0, 0]\n"
     ]
    }
   ],
   "source": [
    "newTiles = [newMainHeader if i<1 else b'' for i in range(70)]\n",
    "newTilesRdd = sc.parallelize(newTiles)\n",
    "\n",
    "print(newTilesRdd.map(lambda x: len(x)).collect())"
   ]
  },
  {
   "cell_type": "markdown",
   "metadata": {},
   "source": [
    "### Add the (modified) tile headers"
   ]
  },
  {
   "cell_type": "code",
   "execution_count": 13,
   "metadata": {},
   "outputs": [
    {
     "name": "stdout",
     "output_type": "stream",
     "text": [
      "[187, 62, 62, 62, 62, 62, 62, 62, 62, 59, 62, 62, 62, 62, 62, 62, 62, 62, 62, 59, 62, 62, 62, 62, 62, 62, 62, 62, 62, 59, 62, 62, 62, 62, 62, 62, 62, 62, 62, 59, 62, 62, 62, 62, 62, 62, 62, 62, 62, 59, 62, 62, 62, 62, 62, 62, 62, 62, 62, 59, 62, 59, 59, 59, 59, 62, 62, 62, 59, 59]\n"
     ]
    }
   ],
   "source": [
    "newTilesRdd = newTilesRdd.zip(newTileHeadersRdd).map(lambda x: x[0]+x[1])\n",
    "\n",
    "print(newTilesRdd.map(lambda x: len(x)).collect())"
   ]
  },
  {
   "cell_type": "markdown",
   "metadata": {},
   "source": [
    "### Add the bitstream data"
   ]
  },
  {
   "cell_type": "code",
   "execution_count": 14,
   "metadata": {},
   "outputs": [
    {
     "name": "stdout",
     "output_type": "stream",
     "text": [
      "[1435218, 1091891, 1246108, 1271955, 1356978, 1408783, 1413914, 1387770, 1069372, 632958, 1607988, 1278061, 1438911, 1429751, 1525340, 1585018, 1566351, 1551643, 1266569, 675305, 1603323, 1259587, 1442395, 1415475, 1481715, 1540312, 1590600, 1541980, 1253533, 664326, 1562334, 1207293, 1364774, 1359430, 1470361, 1539926, 1548114, 1501283, 1199787, 666451, 1471825, 1125133, 1269219, 1320969, 1396522, 1445309, 1452598, 1419308, 1107865, 650033, 1587535, 1250440, 1404379, 1402718, 1505172, 1569570, 1551535, 1535659, 1234146, 672036, 894111, 706244, 801668, 784779, 826470, 856786, 893955, 853902, 711228, 364981]\n"
     ]
    }
   ],
   "source": [
    "newTilesRdd = newTilesRdd.zip(tileBitstreamRdd).map(lambda x: x[0]+x[1])\n",
    "\n",
    "print(newTilesRdd.map(lambda x: len(x)).collect())"
   ]
  },
  {
   "cell_type": "markdown",
   "metadata": {},
   "source": [
    "### Add EOC (last tile only)"
   ]
  },
  {
   "cell_type": "code",
   "execution_count": 15,
   "metadata": {},
   "outputs": [
    {
     "name": "stdout",
     "output_type": "stream",
     "text": [
      "[1435218, 1091891, 1246108, 1271955, 1356978, 1408783, 1413914, 1387770, 1069372, 632958, 1607988, 1278061, 1438911, 1429751, 1525340, 1585018, 1566351, 1551643, 1266569, 675305, 1603323, 1259587, 1442395, 1415475, 1481715, 1540312, 1590600, 1541980, 1253533, 664326, 1562334, 1207293, 1364774, 1359430, 1470361, 1539926, 1548114, 1501283, 1199787, 666451, 1471825, 1125133, 1269219, 1320969, 1396522, 1445309, 1452598, 1419308, 1107865, 650033, 1587535, 1250440, 1404379, 1402718, 1505172, 1569570, 1551535, 1535659, 1234146, 672036, 894111, 706244, 801668, 784779, 826470, 856786, 893955, 853902, 711228, 364983]\n"
     ]
    }
   ],
   "source": [
    "eocRdd = sc.parallelize([b'\\xff\\xd9' if i==69 else b'' for i in range(70)])\n",
    "\n",
    "newTilesRdd = newTilesRdd.zip(eocRdd).map(lambda x: x[0]+x[1])\n",
    "\n",
    "print(newTilesRdd.map(lambda x: len(x)).collect())"
   ]
  },
  {
   "cell_type": "code",
   "execution_count": 16,
   "metadata": {},
   "outputs": [
    {
     "name": "stdout",
     "output_type": "stream",
     "text": [
      "[  2 127 127 127 127 127 127 127 127 127 127 127 127 127 127 127 127 127\n",
      " 127 127 127 127 127 127 127 127 127 127 127 127 127 127 127 127 127 127\n",
      " 127 127 127 127 127 127 127 127 127 127 127 127 127 127 127 127 127 127\n",
      " 127 127 127 127 127 127 127 127 127 127 127 127 127 127 127 125]\n"
     ]
    }
   ],
   "source": [
    "# Sanity check\n",
    "\n",
    "tileDataLen = np.array(tileDataRdd.map(lambda x:len(x)).collect())\n",
    "newTilesLen = np.array(newTilesRdd.map(lambda x:len(x)).collect())\n",
    "\n",
    "deltaLen = tileDataLen - newTilesLen\n",
    "\n",
    "#expected delta\n",
    "# first tile: 2 = stripped EOC marker\n",
    "# last tile: 125 = mainHeader\n",
    "# all other tiles: 127 = stripped EOC marker + mainHeader\n",
    "\n",
    "print(deltaLen)"
   ]
  },
  {
   "cell_type": "markdown",
   "metadata": {},
   "source": [
    "# Get tile data sizes and generate partition numbers"
   ]
  },
  {
   "cell_type": "code",
   "execution_count": 40,
   "metadata": {
    "scrolled": false
   },
   "outputs": [
    {
     "data": {
      "text/plain": [
       "[(0, 1435218),\n",
       " (0, 1091891),\n",
       " (0, 1246108),\n",
       " (0, 1271955),\n",
       " (0, 1356978),\n",
       " (1, 1408783),\n",
       " (1, 1413914),\n",
       " (1, 1387770),\n",
       " (1, 1069372),\n",
       " (2, 632958),\n",
       " (2, 1607988),\n",
       " (2, 1278061),\n",
       " (2, 1438911),\n",
       " (2, 1429751),\n",
       " (3, 1525340),\n",
       " (3, 1585018),\n",
       " (3, 1566351),\n",
       " (3, 1551643),\n",
       " (4, 1266569),\n",
       " (4, 675305),\n",
       " (4, 1603323),\n",
       " (4, 1259587),\n",
       " (4, 1442395),\n",
       " (5, 1415475),\n",
       " (5, 1481715),\n",
       " (5, 1540312),\n",
       " (5, 1590600),\n",
       " (6, 1541980),\n",
       " (6, 1253533),\n",
       " (6, 664326),\n",
       " (6, 1562334),\n",
       " (6, 1207293),\n",
       " (7, 1364774),\n",
       " (7, 1359430),\n",
       " (7, 1470361),\n",
       " (7, 1539926),\n",
       " (8, 1548114),\n",
       " (8, 1501283),\n",
       " (8, 1199787),\n",
       " (8, 666451),\n",
       " (8, 1471825),\n",
       " (9, 1125133),\n",
       " (9, 1269219),\n",
       " (9, 1320969),\n",
       " (9, 1396522),\n",
       " (9, 1445309),\n",
       " (10, 1452598),\n",
       " (10, 1419308),\n",
       " (10, 1107865),\n",
       " (10, 650033),\n",
       " (10, 1587535),\n",
       " (11, 1250440),\n",
       " (11, 1404379),\n",
       " (11, 1402718),\n",
       " (11, 1505172),\n",
       " (12, 1569570),\n",
       " (12, 1551535),\n",
       " (12, 1535659),\n",
       " (12, 1234146),\n",
       " (13, 672036),\n",
       " (13, 894111),\n",
       " (13, 706244),\n",
       " (13, 801668),\n",
       " (13, 784779),\n",
       " (13, 826470),\n",
       " (13, 856786),\n",
       " (14, 893955),\n",
       " (14, 853902),\n",
       " (14, 711228),\n",
       " (14, 364983)]"
      ]
     },
     "execution_count": 40,
     "metadata": {},
     "output_type": "execute_result"
    }
   ],
   "source": [
    "newTilesLen = newTilesRdd.map(lambda x:len(x)).collect()\n",
    "\n",
    "curIndex = 0\n",
    "curSize = 0\n",
    "newIndices = []\n",
    "for tileLen in newTilesLen:\n",
    "    newIndices.append(curIndex)\n",
    "    curSize += tileLen\n",
    "    if curSize >= 5242880:  # 5MB\n",
    "        curIndex += 1\n",
    "        curSize = 0\n",
    "\n",
    "newIndicesRdd = sc.parallelize(newIndices)\n",
    "\n",
    "indexedTilesRdd = newIndicesRdd.zip(newTilesRdd).map(lambda x: x)\n",
    "\n",
    "#sanity check\n",
    "indexedTilesRdd.map(lambda x: (x[0],len(x[1]))).collect()"
   ]
  },
  {
   "cell_type": "code",
   "execution_count": 41,
   "metadata": {},
   "outputs": [
    {
     "data": {
      "text/plain": [
       "[(1, 1408783), (1, 1413914), (1, 1387770), (1, 1069372)]"
      ]
     },
     "execution_count": 41,
     "metadata": {},
     "output_type": "execute_result"
    }
   ],
   "source": [
    "indexedTilesRdd.filter(lambda x:x[0]==1).map(lambda x:(x[0],len(x[1]))).collect()"
   ]
  },
  {
   "cell_type": "markdown",
   "metadata": {},
   "source": [
    "# This is where we will write to S3"
   ]
  },
  {
   "cell_type": "code",
   "execution_count": 44,
   "metadata": {},
   "outputs": [
    {
     "name": "stdout",
     "output_type": "stream",
     "text": [
      "Adding tiles in block 0 to S3: 5 tiles containing 6.11MB\n",
      "Adding tiles in block 1 to S3: 4 tiles containing 5.04MB\n",
      "Adding tiles in block 2 to S3: 5 tiles containing 6.09MB\n",
      "Adding tiles in block 3 to S3: 4 tiles containing 5.94MB\n",
      "Adding tiles in block 4 to S3: 5 tiles containing 5.96MB\n",
      "Adding tiles in block 5 to S3: 4 tiles containing 5.75MB\n",
      "Adding tiles in block 6 to S3: 5 tiles containing 5.94MB\n",
      "Adding tiles in block 7 to S3: 4 tiles containing 5.47MB\n",
      "Adding tiles in block 8 to S3: 5 tiles containing 6.09MB\n",
      "Adding tiles in block 9 to S3: 5 tiles containing 6.25MB\n",
      "Adding tiles in block 10 to S3: 5 tiles containing 5.93MB\n",
      "Adding tiles in block 11 to S3: 4 tiles containing 5.31MB\n",
      "Adding tiles in block 12 to S3: 4 tiles containing 5.62MB\n",
      "Adding tiles in block 13 to S3: 7 tiles containing 5.29MB\n",
      "Adding tiles in block 14 to S3: 4 tiles containing 2.69MB\n"
     ]
    }
   ],
   "source": [
    "num_indices = len(set(newIndices))\n",
    "for i in range(num_indices):\n",
    "    blockData = indexedTilesRdd.filter(lambda x:x[0]==i).map(lambda x:x[1]).collect()\n",
    "    numTilesInBlock = len(blockData)\n",
    "    blockData = b''.join(blockData)\n",
    "    bytesInBlock = len(blockData)\n",
    "    megabytesInBlock = bytesInBlock / (1024*1024)\n",
    "    print(f'Adding tiles in block {i} to S3: {numTilesInBlock} tiles containing {megabytesInBlock:.2f}MB')"
   ]
  },
  {
   "cell_type": "markdown",
   "metadata": {},
   "source": [
    "### But for now, we just want to verify that the joined j2k data is valid"
   ]
  },
  {
   "cell_type": "code",
   "execution_count": 47,
   "metadata": {},
   "outputs": [
    {
     "name": "stdout",
     "output_type": "stream",
     "text": [
      "87518980\n"
     ]
    }
   ],
   "source": [
    "fullJ2kData = b''\n",
    "\n",
    "num_indices = len(set(newIndices))\n",
    "for i in range(num_indices):\n",
    "    blockData = indexedTilesRdd.filter(lambda x:x[0]==i).map(lambda x:x[1]).collect()\n",
    "    blockData = b''.join(blockData)\n",
    "    fullJ2kData = fullJ2kData + blockData\n",
    "    \n",
    "print(len(fullJ2kData))\n",
    "\n",
    "with open(\"frog_dog8x8_rejoined.j2k\",\"wb\") as j2k_file:\n",
    "    j2k_file.write(fullJ2kData)"
   ]
  },
  {
   "cell_type": "code",
   "execution_count": null,
   "metadata": {},
   "outputs": [],
   "source": []
  }
 ],
 "metadata": {
  "kernelspec": {
   "display_name": "Python 3",
   "language": "python",
   "name": "python3"
  },
  "language_info": {
   "codemirror_mode": {
    "name": "ipython",
    "version": 3
   },
   "file_extension": ".py",
   "mimetype": "text/x-python",
   "name": "python",
   "nbconvert_exporter": "python",
   "pygments_lexer": "ipython3",
   "version": "3.8.5"
  }
 },
 "nbformat": 4,
 "nbformat_minor": 4
}
