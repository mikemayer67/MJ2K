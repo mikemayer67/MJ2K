{
 "cells": [
  {
   "cell_type": "code",
   "execution_count": 14,
   "metadata": {},
   "outputs": [],
   "source": [
    "from pyspark.sql import SparkSession\n",
    "import numpy as np"
   ]
  },
  {
   "cell_type": "code",
   "execution_count": 2,
   "metadata": {},
   "outputs": [],
   "source": [
    "sc = SparkSession.builder.appName('Untitled').getOrCreate().sparkContext"
   ]
  },
  {
   "cell_type": "markdown",
   "metadata": {},
   "source": [
    "# Load tile data into RDD"
   ]
  },
  {
   "cell_type": "code",
   "execution_count": 4,
   "metadata": {},
   "outputs": [],
   "source": [
    "tileIndicesRdd = sc.parallelize([i for i in range(70)])"
   ]
  },
  {
   "cell_type": "code",
   "execution_count": 5,
   "metadata": {},
   "outputs": [],
   "source": [
    "def loadTileData(tileIndex):\n",
    "    filename = f\"frog_dog8x8_tile{tileIndex:02d}.j2k\"\n",
    "    with open(filename,\"rb\") as j2k_file:\n",
    "        j2k_data = j2k_file.read()\n",
    "    return (tileIndex,j2k_data)\n",
    "\n",
    "tileDataRdd = tileIndicesRdd.map(loadTileData)"
   ]
  },
  {
   "cell_type": "markdown",
   "metadata": {},
   "source": [
    "# Strip main header from tiles"
   ]
  },
  {
   "cell_type": "code",
   "execution_count": 75,
   "metadata": {
    "scrolled": false
   },
   "outputs": [
    {
     "data": {
      "text/plain": [
       "b'\\xffO\\xffQ\\x00/\\x00\\x00\\x00\\x00\\x04\\x00\\x00\\x00\\x04\\x00\\x00\\x00\\x00\\x00\\x00\\x00\\x00\\x00\\x00\\x00\\x04\\x00\\x00\\x00\\x04\\x00\\x00\\x00\\x00\\x00\\x00\\x00\\x00\\x00\\x00\\x03\\x07\\x01\\x01\\x07\\x01\\x01\\x07\\x01\\x01\\xffR\\x00\\x0c\\x00\\x00\\x00\\x01\\x00\\x05\\x04\\x04\\x00\\x01\\xff\\\\\\x00\\x13@@HHPHHPHHPHHPHHP\\xffd\\x00%\\x00\\x01Created by OpenJPEG version 2.4.0'"
      ]
     },
     "execution_count": 75,
     "metadata": {},
     "output_type": "execute_result"
    }
   ],
   "source": [
    "def getMainHeader(tileData):\n",
    "    index,data = tileData\n",
    "    if index > 0:\n",
    "        return None\n",
    "    pos = 2\n",
    "    markers = []\n",
    "    while True:\n",
    "        marker = data[pos:pos+2].hex()\n",
    "        if marker == 'ff90':\n",
    "            break\n",
    "        siz = int.from_bytes(data[pos+2:pos+4],byteorder='big')\n",
    "        markers.append((marker,siz))\n",
    "        pos += 2 + siz\n",
    "    return data[0:pos], data[pos:pos+2]\n",
    "\n",
    "mainHeader = tileDataRdd.map(getMainHeader).first()[0]\n",
    "mainHeader"
   ]
  },
  {
   "cell_type": "code",
   "execution_count": 71,
   "metadata": {
    "scrolled": false
   },
   "outputs": [],
   "source": [
    "def stripMainHeader(tileData):\n",
    "    index,data = tileData\n",
    "    pos = 2\n",
    "    markers = []\n",
    "    while True:\n",
    "        marker = data[pos:pos+2].hex()\n",
    "        if marker == 'ff90':\n",
    "            break\n",
    "        siz = int.from_bytes(data[pos+2:pos+4],byteorder='big')\n",
    "        markers.append((marker,siz))\n",
    "        pos += 2 + siz\n",
    "    return data[pos:]\n",
    "\n",
    "tileDataWithoutMainHeaderRdd = tileDataRdd.map(stripMainHeader)"
   ]
  },
  {
   "cell_type": "markdown",
   "metadata": {},
   "source": [
    "# Modify SIZ marker segment"
   ]
  },
  {
   "cell_type": "code",
   "execution_count": 84,
   "metadata": {},
   "outputs": [
    {
     "data": {
      "text/plain": [
       "{'Lsiz': 47,\n",
       " 'Rsiz': '0000',\n",
       " 'XSiz': 1024,\n",
       " 'YSiz': 1024,\n",
       " 'XOSiz': 0,\n",
       " 'YOSiz': 0,\n",
       " 'XTSiz': 1024,\n",
       " 'YTSiz': 1024,\n",
       " 'XTOSiz': 0,\n",
       " 'YTOSiz': 0,\n",
       " 'Csiz': 3,\n",
       " 'Ssiz': '07',\n",
       " 'XRsiz': 1,\n",
       " 'YRsiz': 1}"
      ]
     },
     "execution_count": 84,
     "metadata": {},
     "output_type": "execute_result"
    }
   ],
   "source": [
    "SIZ = {\n",
    "    'Lsiz':int.from_bytes(mainHeader[4:6],byteorder='big'),\n",
    "    'Rsiz':mainHeader[6:8].hex(),\n",
    "    'XSiz':int.from_bytes(mainHeader[8:12],byteorder='big'),\n",
    "    'YSiz':int.from_bytes(mainHeader[12:16],byteorder='big'),\n",
    "    'XOSiz':int.from_bytes(mainHeader[16:20],byteorder='big'),\n",
    "    'YOSiz':int.from_bytes(mainHeader[20:24],byteorder='big'),\n",
    "    'XTSiz':int.from_bytes(mainHeader[24:28],byteorder='big'),\n",
    "    'YTSiz':int.from_bytes(mainHeader[28:32],byteorder='big'),\n",
    "    'XTOSiz':int.from_bytes(mainHeader[32:36],byteorder='big'),\n",
    "    'YTOSiz':int.from_bytes(mainHeader[36:40],byteorder='big'),\n",
    "    'Csiz':int.from_bytes(mainHeader[40:42],byteorder='big'),\n",
    "    'Ssiz':mainHeader[42:43].hex(),\n",
    "    'XRsiz':int.from_bytes(mainHeader[43:44],byteorder='big'),\n",
    "    'YRsiz':int.from_bytes(mainHeader[44:45],byteorder='big'),\n",
    "}\n",
    "\n",
    "SIZ"
   ]
  },
  {
   "cell_type": "code",
   "execution_count": 89,
   "metadata": {},
   "outputs": [
    {
     "data": {
      "text/plain": [
       "{'Lsiz': 47,\n",
       " 'Rsiz': '0000',\n",
       " 'XSiz': 9600,\n",
       " 'YSiz': 6680,\n",
       " 'XOSiz': 0,\n",
       " 'YOSiz': 0,\n",
       " 'XTSiz': 1024,\n",
       " 'YTSiz': 1024,\n",
       " 'XTOSiz': 0,\n",
       " 'YTOSiz': 0,\n",
       " 'Csiz': 3,\n",
       " 'Ssiz': '07',\n",
       " 'XRsiz': 1,\n",
       " 'YRsiz': 1}"
      ]
     },
     "execution_count": 89,
     "metadata": {},
     "output_type": "execute_result"
    }
   ],
   "source": [
    "newXSiz = 9*1024 + 384\n",
    "newYSiz = 6*1024 + 536\n",
    "\n",
    "newHeader = mainHeader[0:8] \\\n",
    "+ newXSiz.to_bytes(4,byteorder='big') \\\n",
    "+ newYSiz.to_bytes(4,byteorder='big') \\\n",
    "+ mainHeader[16:]\n",
    "\n",
    "SIZ = {\n",
    "    'Lsiz':int.from_bytes(newHeader[4:6],byteorder='big'),\n",
    "    'Rsiz':newHeader[6:8].hex(),\n",
    "    'XSiz':int.from_bytes(newHeader[8:12],byteorder='big'),\n",
    "    'YSiz':int.from_bytes(newHeader[12:16],byteorder='big'),\n",
    "    'XOSiz':int.from_bytes(newHeader[16:20],byteorder='big'),\n",
    "    'YOSiz':int.from_bytes(newHeader[20:24],byteorder='big'),\n",
    "    'XTSiz':int.from_bytes(newHeader[24:28],byteorder='big'),\n",
    "    'YTSiz':int.from_bytes(newHeader[28:32],byteorder='big'),\n",
    "    'XTOSiz':int.from_bytes(newHeader[32:36],byteorder='big'),\n",
    "    'YTOSiz':int.from_bytes(newHeader[36:40],byteorder='big'),\n",
    "    'Csiz':int.from_bytes(newHeader[40:42],byteorder='big'),\n",
    "    'Ssiz':newHeader[42:43].hex(),\n",
    "    'XRsiz':int.from_bytes(newHeader[43:44],byteorder='big'),\n",
    "    'YRsiz':int.from_bytes(newHeader[44:45],byteorder='big'),\n",
    "}\n",
    "\n",
    "SIZ"
   ]
  },
  {
   "cell_type": "markdown",
   "metadata": {},
   "source": [
    "# Attach main header to first tile"
   ]
  },
  {
   "cell_type": "code",
   "execution_count": 103,
   "metadata": {},
   "outputs": [],
   "source": [
    "newTileHeaders = [newHeader if i<1 else b'' for i in range(70)]\n",
    "newTileHeadersRdd = sc.parallelize(newTileHeaders)\n",
    "\n",
    "tileDataReadyForExportRdd = \\\n",
    "    tileDataWithoutMainHeaderRdd.zip(newTileHeadersRdd).map(lambda x: x[0]+x[1])"
   ]
  },
  {
   "cell_type": "code",
   "execution_count": 105,
   "metadata": {},
   "outputs": [
    {
     "name": "stdout",
     "output_type": "stream",
     "text": [
      "[1435220, 1092018, 1246235, 1272082, 1357105]\n",
      "[1435095, 1091893, 1246110, 1271957, 1356980]\n",
      "[1435220, 1091893, 1246110, 1271957, 1356980]\n"
     ]
    }
   ],
   "source": [
    "# Sanity check\n",
    "\n",
    "print(tileDataRdd.map(lambda x:len(x[1])).collect()[0:5])\n",
    "print(tileDataWithoutMainHeaderRdd.map(lambda x:len(x)).collect()[0:5])\n",
    "print(tileDataReadyForExportRdd.map(lambda x:len(x)).collect()[0:5])"
   ]
  },
  {
   "cell_type": "markdown",
   "metadata": {},
   "source": [
    "# Get tile data sizes and generate partition numbers"
   ]
  },
  {
   "cell_type": "code",
   "execution_count": 108,
   "metadata": {},
   "outputs": [],
   "source": [
    "tileSizes = tileDataReadyForExportRdd.map(lambda x:len(x)).collect()"
   ]
  },
  {
   "cell_type": "code",
   "execution_count": 109,
   "metadata": {},
   "outputs": [],
   "source": [
    "curIndex = 0\n",
    "curSize = 0\n",
    "newIndices = []\n",
    "for tileSize in tileSizes:\n",
    "    curSize += tileSize\n",
    "    if curSize >= 5242880:  # 5MB\n",
    "        curIndex += 1\n",
    "        curSize = tileSize\n",
    "    newIndices.append(curIndex)\n",
    "\n",
    "newIndicesRdd = sc.parallelize(newIndices)\n",
    "\n",
    "indexedTileDataRdd = tileDataReadyForExportRdd.zip(newIndicesRdd)"
   ]
  },
  {
   "cell_type": "code",
   "execution_count": 110,
   "metadata": {},
   "outputs": [
    {
     "data": {
      "text/plain": [
       "[0,\n",
       " 0,\n",
       " 0,\n",
       " 0,\n",
       " 1,\n",
       " 1,\n",
       " 1,\n",
       " 2,\n",
       " 2,\n",
       " 2,\n",
       " 2,\n",
       " 3,\n",
       " 3,\n",
       " 3,\n",
       " 4,\n",
       " 4,\n",
       " 4,\n",
       " 5,\n",
       " 5,\n",
       " 5,\n",
       " 5,\n",
       " 6,\n",
       " 6,\n",
       " 6,\n",
       " 7,\n",
       " 7,\n",
       " 7,\n",
       " 8,\n",
       " 8,\n",
       " 8,\n",
       " 8,\n",
       " 9,\n",
       " 9,\n",
       " 9,\n",
       " 10,\n",
       " 10,\n",
       " 10,\n",
       " 11,\n",
       " 11,\n",
       " 11,\n",
       " 11,\n",
       " 12,\n",
       " 12,\n",
       " 12,\n",
       " 12,\n",
       " 13,\n",
       " 13,\n",
       " 13,\n",
       " 14,\n",
       " 14,\n",
       " 14,\n",
       " 14,\n",
       " 15,\n",
       " 15,\n",
       " 15,\n",
       " 16,\n",
       " 16,\n",
       " 16,\n",
       " 17,\n",
       " 17,\n",
       " 17,\n",
       " 17,\n",
       " 17,\n",
       " 17,\n",
       " 18,\n",
       " 18,\n",
       " 18,\n",
       " 18,\n",
       " 18,\n",
       " 18]"
      ]
     },
     "execution_count": 110,
     "metadata": {},
     "output_type": "execute_result"
    }
   ],
   "source": [
    "newIndices"
   ]
  },
  {
   "cell_type": "code",
   "execution_count": null,
   "metadata": {},
   "outputs": [],
   "source": []
  }
 ],
 "metadata": {
  "kernelspec": {
   "display_name": "Python 3",
   "language": "python",
   "name": "python3"
  },
  "language_info": {
   "codemirror_mode": {
    "name": "ipython",
    "version": 3
   },
   "file_extension": ".py",
   "mimetype": "text/x-python",
   "name": "python",
   "nbconvert_exporter": "python",
   "pygments_lexer": "ipython3",
   "version": "3.8.5"
  }
 },
 "nbformat": 4,
 "nbformat_minor": 4
}
