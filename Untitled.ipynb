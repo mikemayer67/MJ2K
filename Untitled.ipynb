{
 "cells": [
  {
   "cell_type": "code",
   "execution_count": 7,
   "metadata": {},
   "outputs": [],
   "source": [
    "import numpy as np"
   ]
  },
  {
   "cell_type": "code",
   "execution_count": 19,
   "metadata": {},
   "outputs": [],
   "source": [
    "tile_data = [bytes(250000*(i+1)) for i in range(20)]\n",
    "tile_lengths = np.array([len(t) for t in tile_data])"
   ]
  },
  {
   "cell_type": "code",
   "execution_count": 20,
   "metadata": {},
   "outputs": [
    {
     "data": {
      "text/plain": [
       "array([ 250000,  500000,  750000, 1000000, 1250000, 1500000, 1750000,\n",
       "       2000000, 2250000, 2500000, 2750000, 3000000, 3250000, 3500000,\n",
       "       3750000, 4000000, 4250000, 4500000, 4750000, 5000000])"
      ]
     },
     "execution_count": 20,
     "metadata": {},
     "output_type": "execute_result"
    }
   ],
   "source": [
    "tile_lengths "
   ]
  },
  {
   "cell_type": "code",
   "execution_count": 21,
   "metadata": {},
   "outputs": [
    {
     "data": {
      "text/plain": [
       "array([1, 1, 1, 1, 1, 1, 2, 2, 2, 3, 3, 4, 4, 5, 5, 6, 6, 7, 7, 8])"
      ]
     },
     "execution_count": 21,
     "metadata": {},
     "output_type": "execute_result"
    }
   ],
   "source": [
    "min_size = 5*1024*1024\n",
    "cur_index = 1\n",
    "cur_size = 0\n",
    "tile_indices = []\n",
    "for t in tile_lengths:\n",
    "    tile_indices.append(cur_index)\n",
    "    cur_size += t\n",
    "    if cur_size > min_size:\n",
    "        cur_index += 1\n",
    "        cur_size = 0\n",
    "        \n",
    "tile_indices = np.array(tile_indices)\n",
    "tile_indices"
   ]
  },
  {
   "cell_type": "code",
   "execution_count": 50,
   "metadata": {},
   "outputs": [
    {
     "data": {
      "text/plain": [
       "[5250000, 6000000, 5250000, 6250000, 7250000, 8250000, 9250000, 5000000]"
      ]
     },
     "execution_count": 50,
     "metadata": {},
     "output_type": "execute_result"
    }
   ],
   "source": [
    "part_lengths = []\n",
    "for i in set(tile_indices):\n",
    "    part_lengths.append(tile_lengths[tile_indices==i].sum())\n",
    "part_lengths"
   ]
  },
  {
   "cell_type": "code",
   "execution_count": 49,
   "metadata": {},
   "outputs": [
    {
     "data": {
      "text/plain": [
       "True"
      ]
     },
     "execution_count": 49,
     "metadata": {},
     "output_type": "execute_result"
    }
   ],
   "source": [
    "(np.array(part_lengths[:-1])>=min_size).all()"
   ]
  },
  {
   "cell_type": "code",
   "execution_count": null,
   "metadata": {},
   "outputs": [],
   "source": []
  }
 ],
 "metadata": {
  "kernelspec": {
   "display_name": "Python 3",
   "language": "python",
   "name": "python3"
  },
  "language_info": {
   "codemirror_mode": {
    "name": "ipython",
    "version": 3
   },
   "file_extension": ".py",
   "mimetype": "text/x-python",
   "name": "python",
   "nbconvert_exporter": "python",
   "pygments_lexer": "ipython3",
   "version": "3.8.5"
  }
 },
 "nbformat": 4,
 "nbformat_minor": 4
}
