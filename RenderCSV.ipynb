{
 "cells": [
  {
   "cell_type": "code",
   "execution_count": null,
   "metadata": {},
   "outputs": [],
   "source": [
    "import numpy as np\n",
    "import matplotlib.pyplot as plt\n",
    "import glob\n",
    "from PIL import Image"
   ]
  },
  {
   "cell_type": "code",
   "execution_count": null,
   "metadata": {
    "scrolled": false
   },
   "outputs": [],
   "source": [
    "files = glob.glob('SampleImagery/*.csv')\n",
    "files.sort()\n",
    "\n",
    "for file in files:\n",
    "    pixels = np.genfromtxt(file,delimiter=',',dtype='uint8')\n",
    "    if pixels.ndim == 1:\n",
    "        pixels = np.stack((pixels,pixels))\n",
    "    plt.imshow(pixels,cmap='gray')\n",
    "    plt.title(file)\n",
    "    plt.show()"
   ]
  },
  {
   "cell_type": "code",
   "execution_count": null,
   "metadata": {},
   "outputs": [],
   "source": [
    "for n in (4,8):\n",
    "    rgb = (f'SampleImagery/p0_{n:02}_{i}.csv' for i in (1,2,3))\n",
    "    rgb = (np.genfromtxt(file,delimiter=',') for file in rgb)\n",
    "    rgb = [c.astype('uint8') for c in rgb]\n",
    "    rgb = np.dstack(rgb)\n",
    "    image = Image.fromarray(rgb)\n",
    "    display(image)"
   ]
  },
  {
   "cell_type": "code",
   "execution_count": null,
   "metadata": {},
   "outputs": [],
   "source": [
    "for L in range(21):\n",
    "    rgb = (f'SampleImagery/p0_08_{L}_{i}.csv' for i in (1,2,3))\n",
    "    rgb = (np.genfromtxt(file,delimiter=',') for file in rgb)\n",
    "    rgb = [c.astype('uint8') for c in rgb]\n",
    "    rgb = np.dstack(rgb)\n",
    "    image = Image.fromarray(rgb)\n",
    "    image.show()\n",
    "    image.save(f'SampleImagery/p0_08_{L}.png')"
   ]
  },
  {
   "cell_type": "code",
   "execution_count": null,
   "metadata": {},
   "outputs": [],
   "source": []
  }
 ],
 "metadata": {
  "kernelspec": {
   "display_name": "Python 3",
   "language": "python",
   "name": "python3"
  },
  "language_info": {
   "codemirror_mode": {
    "name": "ipython",
    "version": 3
   },
   "file_extension": ".py",
   "mimetype": "text/x-python",
   "name": "python",
   "nbconvert_exporter": "python",
   "pygments_lexer": "ipython3",
   "version": "3.8.5"
  }
 },
 "nbformat": 4,
 "nbformat_minor": 4
}
