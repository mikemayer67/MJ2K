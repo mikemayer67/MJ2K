{
 "cells": [
  {
   "cell_type": "code",
   "execution_count": 1,
   "id": "db829b97",
   "metadata": {},
   "outputs": [],
   "source": [
    "# This block just sets up the input\n",
    "from PIL import Image\n",
    "import numpy as np\n",
    "from j2k_compress import compress\n",
    "image = Image.open(f\"../../test/test_data/tv-test-pattern-mono-large.jpg\")\n",
    "array = np.array(image.getdata())\n",
    "array = array.reshape((image.size[1], image.size[0]))\n",
    "array = array.astype(\"int32\")\n",
    "array_list = [array, array, array, array]\n",
    "num_rows = 2\n",
    "num_cols = 2\n",
    "\n",
    "\n",
    "\n",
    "# call compression\n",
    "codestream, j2klra = compress(\n",
    "    array_list,\n",
    "    num_rows,\n",
    "    profile=\"NPJE\",\n",
    "    compression_type=\"NL\",\n",
    ")"
   ]
  },
  {
   "cell_type": "code",
   "execution_count": 2,
   "id": "84bab10c",
   "metadata": {},
   "outputs": [],
   "source": [
    "levels = 5\n",
    "layers = 20\n",
    "components = 1"
   ]
  },
  {
   "cell_type": "code",
   "execution_count": 3,
   "id": "f2b0e94b",
   "metadata": {},
   "outputs": [],
   "source": [
    "# set up imports\n",
    "from util.codestream_parser import *\n",
    "from markers.const import *\n",
    "from markers.factory import *\n",
    "from markers.find import *\n",
    "from markers.segment import *"
   ]
  },
  {
   "cell_type": "code",
   "execution_count": 4,
   "id": "efd44e95",
   "metadata": {},
   "outputs": [],
   "source": [
    "# lets us save packet info without saving packet data \n",
    "class Packet:\n",
    "    def __init__(self, codestream_index, tile_index, length, tile, quality_layer, resolution_level, component):\n",
    "        # codestream_index is the starting index of the packet within the full codestream\n",
    "        self.codestream_index = codestream_index\n",
    "        # tile_index is the starting index of the packet within only the tile codestream (starting at SOT)\n",
    "        self.tile_index = tile_index\n",
    "        self.length = length\n",
    "        self.tile = tile\n",
    "        self.quality_layer = quality_layer\n",
    "        self.resolution = resolution_level\n",
    "        self.component = component\n",
    "        \n",
    "    def print_all_attributes(self):\n",
    "        print(f\"codestream_index: {self.codestream_index}, tile_index: {self.tile_index}, length: {self.length}, tile: {self.tile}, quality layer: {self.quality_layer}, resolution: {self.resolution}, component: {self.component}\")"
   ]
  },
  {
   "cell_type": "code",
   "execution_count": 5,
   "id": "b18a9b10",
   "metadata": {},
   "outputs": [],
   "source": [
    "import bitstring\n",
    "from bitstring import BitArray\n",
    "def get_packet_lengths(Iplt):\n",
    "    # Input: valid Iplt marker segment (bytes)\n",
    "    # Output: list of ints, each representing the length of a packet, in the order the packets apear\n",
    "    # iterate through 1 byte at a time\n",
    "    # if first bit of byte is 0, this is the last byte for current packet \n",
    "    # else it is not the last byte\n",
    "    # only remanining 7 bits are part of length value\n",
    "    packet_lengths = []\n",
    "    current_packet_size_bits = BitArray()\n",
    "    for byte in range(len(Iplt)):\n",
    "        # get trailing 7 bits of current byte and append to current bits\n",
    "        current_bits = BitArray(Iplt[byte:byte+1])\n",
    "        current_packet_size_bits.append(current_bits[1:])\n",
    "        if current_bits[0] == 0:\n",
    "            # last byte in current length\n",
    "            packet_lengths.append(current_packet_size_bits.uint)\n",
    "            # clear bits to prep for next packet length\n",
    "            current_packet_size_bits.clear()\n",
    "    return packet_lengths"
   ]
  },
  {
   "cell_type": "code",
   "execution_count": 6,
   "id": "14127755",
   "metadata": {},
   "outputs": [],
   "source": [
    "def sort_packets_by_rlcp(sot_indexes, sod_indexes, packet_lengths, levels, layers, components):\n",
    "    # Input: list of ints, each representing the index of each tile's SOT marker, in the order the tiles apear\n",
    "    # list of ints, each representing the langth of a packet, in the order the packets apear\n",
    "    # number of resolution levels in compressed image\n",
    "    # number of quality layers in compressed image\n",
    "    # number of components in compressed image\n",
    "    \n",
    "    # Output: reordered_packets (list) - a nested list containing packets sorted into rlcp progression order\n",
    "    # structured as follows: reordered_packets[resolution levels][tiles][quality layers][components]\n",
    "    # NOTE: levels are ordered like this: R5, R4, R3, R2, R1, R0\n",
    "    \n",
    "    num_tiles = len(sod_indexes)\n",
    "    # first, set up an approprately sized data structure to populate, initialized with zeros\n",
    "    # reordered_packets[resolution levels][tiles][quality layers][components]\n",
    "    reordered_packets = [[[[0 for c in range(components)] for q in range(layers)] for t in range(num_tiles)] for r in range(levels+1)]\n",
    "\n",
    "    # get data for each packet\n",
    "    for tile in range(num_tiles):\n",
    "        current_packet = 0\n",
    "        # packets start immediately after the SOD marker, which is 2 bytes long\n",
    "        current_sod_index = sod_indexes[tile] + 2 \n",
    "        relative_packet_index = 0\n",
    "        # test: want sod index relative to tile start\n",
    "        current_sod_index_within_tile = sod_indexes[tile] - sot_indexes[tile] + 2\n",
    "        for layer in range(layers):\n",
    "                for level in range(levels+1):\n",
    "                    for component in range(components):\n",
    "                        # Create Packet object and add to reordered_packets list in the appropriate location\n",
    "                        reordered_packets[level][tile][layer][component] = Packet(current_sod_index+relative_packet_index, current_sod_index_within_tile+relative_packet_index, packet_lengths[tile][current_packet], tile, layer, level, component)\n",
    "                        relative_packet_index += packet_lengths[tile][current_packet]\n",
    "                        current_packet += 1\n",
    "\n",
    "    return reordered_packets"
   ]
  },
  {
   "cell_type": "code",
   "execution_count": 7,
   "id": "0ad6f765",
   "metadata": {},
   "outputs": [],
   "source": [
    "# to \"sparkify\" this, all we need to do is to remove references to \"codestream\" or \"codestream_object\",\n",
    "# since these will not be available \n",
    "# however, we do have the main header and tile headers, separate from the data\n",
    "# could simply pass these in, and change get_sot_indexes and get_all_Iplts to work with these inputs"
   ]
  },
  {
   "cell_type": "code",
   "execution_count": 8,
   "id": "a8227c4f",
   "metadata": {},
   "outputs": [],
   "source": [
    "def get_sot_indexes_from_main_header(main_header):\n",
    "    # Input: main_header (bytes) - the main heaader of the original compressed codestream\n",
    "    # Output: list of ints, each representing the index of each tile's SOT marker, in the order the tiles apear\n",
    "    main_header_object = CodestreamParser(main_header)\n",
    "    tlm = find_first_marker(main_header_object, TLM)\n",
    "    # get first SOT index\n",
    "    sot_indexes = [len(main_header)]\n",
    "    # sot idex for tile m = MainHeaderLength + m-1∑i=0 Ptlm(i)\n",
    "    for i in range (1, tlm.num_tile_parts):\n",
    "        sot_indexes.append(sot_indexes[i-1] + tlm.Ptlm(i-1))\n",
    "    return sot_indexes"
   ]
  },
  {
   "cell_type": "code",
   "execution_count": 9,
   "id": "5278cbc7",
   "metadata": {},
   "outputs": [],
   "source": [
    "def get_sod_indexes_from_tile_headers(sot_indexes, tile_headers):\n",
    "    sod_indexes = []\n",
    "    for i, tile_header in enumerate(tile_headers):\n",
    "        tile_header_object = CodestreamParser(tile_header)\n",
    "        sod_marker = find_first_marker(tile_header_object, SOD)\n",
    "        sod_indexes.append(sot_indexes[i] + sod_marker.offset)\n",
    "    return sod_indexes"
   ]
  },
  {
   "cell_type": "code",
   "execution_count": 10,
   "id": "4f9f3322",
   "metadata": {},
   "outputs": [],
   "source": [
    "def get_all_Iplts_from_tile_headers(tile_headers):\n",
    "    # Input: tile_headers (list) - list of bytes objects containing the tile headers, in the order they apear within the codestream\n",
    "    # Output: list of bytes objects, each containing the Iplt for each tile, in raster order\n",
    "    Iplt_markers = []\n",
    "    for tile_header in tile_headers:\n",
    "        tile_header_object = CodestreamParser(tile_header)\n",
    "        plt_marker = find_first_marker(tile_header_object, PLT)\n",
    "        plt = plt_marker.to_bytes()\n",
    "        # Iplt always starts at the 6th byte of the PLT marker, and is the last segment of this marker\n",
    "        Iplt_markers.append(plt[5:])\n",
    "    return Iplt_markers"
   ]
  },
  {
   "cell_type": "code",
   "execution_count": 11,
   "id": "2034e7c0",
   "metadata": {},
   "outputs": [],
   "source": [
    "def reorder_packets_from_npje_to_epje_using_headers(main_header, tile_headers, levels, layers, components):\n",
    "    # Input: main_header (bytes) - the main heaader of the original compressed codestream\n",
    "    # tile_headers (list) - list of bytes objects containing the tile headers, in the order they apear within the codestream\n",
    "    # levels (int) - number of resolution levels in compressed image\n",
    "    # layers (int) - number of quality layers in compressed image\n",
    "    # components (int) - number of components in compressed image\n",
    "    \n",
    "    # Output: reordered_packets (list) - a nested list containing packets sorted into lrcp progression order\n",
    "    # structured as follows: reordered_packets[resolution levels][tiles][quality layers][components]\n",
    "    # NOTE: levels are ordered like this: R5, R4, R3, R2, R1, R0\n",
    "\n",
    "    # get all sot (start of tile) locations\n",
    "    sot_indexes = get_sot_indexes_from_main_header(main_header)\n",
    "    # get all Iplt markers, which contain the packet lengths\n",
    "    Iplt_markers = get_all_Iplts_from_tile_headers(tile_headers)\n",
    "    # now we have a Iplt for each tile\n",
    "    # next we need to parse the Iplts to get the individual packet lengths\n",
    "    packet_lengths = [\n",
    "        get_packet_lengths(Iplt) for Iplt in Iplt_markers\n",
    "    ]\n",
    "    # finally, we need to sod indexes in order to calculate packet offsets\n",
    "    sod_indexes = get_sod_indexes_from_tile_headers(sot_indexes, tile_headers)\n",
    "    # now we can use the sot indexes and packet lengths to calculate the packet indices, \n",
    "    # and re-order them into RLCP progression order\n",
    "    reordered_packets = sort_packets_by_rlcp(sot_indexes, sod_indexes, packet_lengths, levels, layers, components)\n",
    "    return reordered_packets"
   ]
  },
  {
   "cell_type": "code",
   "execution_count": 12,
   "id": "7e51e1d8",
   "metadata": {},
   "outputs": [],
   "source": [
    "main_header = codestream[:187]\n",
    "tile_headers = [codestream[187:390], codestream[835912:835912+203], codestream[1671637:1671637+203], codestream[2507362:2507362+203]]\n",
    "tiles = [codestream[187:835912], codestream[835912:1671637], codestream[1671637:2507362], codestream[2507362:]]\n",
    "reordered_packets_spark_version = reorder_packets_from_npje_to_epje_using_headers(main_header, tile_headers, levels, layers, components)"
   ]
  },
  {
   "cell_type": "code",
   "execution_count": 17,
   "id": "72e03140",
   "metadata": {},
   "outputs": [
    {
     "name": "stdout",
     "output_type": "stream",
     "text": [
      "codestream_index: 7541, tile_index: 7354, length: 8253, tile: 0, quality layer: 0, resolution: 2, component: 0\n",
      "codestream_index: 28125, tile_index: 27938, length: 4081, tile: 0, quality layer: 1, resolution: 2, component: 0\n",
      "codestream_index: 51845, tile_index: 51658, length: 5013, tile: 0, quality layer: 2, resolution: 2, component: 0\n",
      "codestream_index: 101083, tile_index: 100896, length: 11422, tile: 0, quality layer: 3, resolution: 2, component: 0\n",
      "codestream_index: 196450, tile_index: 196263, length: 2662, tile: 0, quality layer: 4, resolution: 2, component: 0\n",
      "codestream_index: 392595, tile_index: 392408, length: 26, tile: 0, quality layer: 5, resolution: 2, component: 0\n",
      "codestream_index: 471016, tile_index: 470829, length: 4, tile: 0, quality layer: 6, resolution: 2, component: 0\n",
      "codestream_index: 549476, tile_index: 549289, length: 4, tile: 0, quality layer: 7, resolution: 2, component: 0\n",
      "codestream_index: 628074, tile_index: 627887, length: 4, tile: 0, quality layer: 8, resolution: 2, component: 0\n",
      "codestream_index: 706594, tile_index: 706407, length: 4, tile: 0, quality layer: 9, resolution: 2, component: 0\n",
      "codestream_index: 784969, tile_index: 784782, length: 4, tile: 0, quality layer: 10, resolution: 2, component: 0\n",
      "codestream_index: 833920, tile_index: 833733, length: 4, tile: 0, quality layer: 11, resolution: 2, component: 0\n",
      "codestream_index: 834136, tile_index: 833949, length: 4, tile: 0, quality layer: 12, resolution: 2, component: 0\n",
      "codestream_index: 834352, tile_index: 834165, length: 4, tile: 0, quality layer: 13, resolution: 2, component: 0\n",
      "codestream_index: 834568, tile_index: 834381, length: 4, tile: 0, quality layer: 14, resolution: 2, component: 0\n",
      "codestream_index: 834784, tile_index: 834597, length: 4, tile: 0, quality layer: 15, resolution: 2, component: 0\n",
      "codestream_index: 835000, tile_index: 834813, length: 4, tile: 0, quality layer: 16, resolution: 2, component: 0\n",
      "codestream_index: 835216, tile_index: 835029, length: 4, tile: 0, quality layer: 17, resolution: 2, component: 0\n",
      "codestream_index: 835432, tile_index: 835245, length: 4, tile: 0, quality layer: 18, resolution: 2, component: 0\n",
      "codestream_index: 835656, tile_index: 835469, length: 5, tile: 0, quality layer: 19, resolution: 2, component: 0\n"
     ]
    }
   ],
   "source": [
    "for packet_list in reordered_packets_spark_version[2][0]:\n",
    "    for packet in packet_list:\n",
    "        packet.print_all_attributes()"
   ]
  },
  {
   "cell_type": "code",
   "execution_count": null,
   "id": "a3ab81f4",
   "metadata": {},
   "outputs": [],
   "source": [
    "\"\"\"\n",
    "spark design: \n",
    "-need function that creates all tile parts for 1 given tile\n",
    "    -can apply this function to every tile (map to rdd)\n",
    "    -function will take in tile, reordered_packets, levels, layers, components\n",
    "    -fucntion will output list of tile parts (includes tile part header and data)\n",
    "        -len(list) = levels+1\n",
    "-will need separate function to create new main header\n",
    "\n",
    "\"\"\""
   ]
  },
  {
   "cell_type": "code",
   "execution_count": null,
   "id": "d6e5d13a",
   "metadata": {},
   "outputs": [],
   "source": [
    "# should we assume that any resolution reduction has been done by this point?\n",
    "# if resolution reduction truly is as simple as deleting certain resolution levels, this\n",
    "# operation will be as trivial as removing items from a list\n",
    "# decision: input \"levels\" into function below should reflect desired levels of thumbnail, not the original input levels"
   ]
  },
  {
   "cell_type": "code",
   "execution_count": 46,
   "id": "6e3070f5",
   "metadata": {},
   "outputs": [],
   "source": [
    "def create_tile_parts(compressed_tile, reordered_packets, levels, layers, components, tile_index):\n",
    "    # reordered_packets[resolution levels][tiles][quality layers][components]\n",
    "    # NOTE: levels are ordered like this: R5, R4, R3, R2, R1, R0\n",
    "    \n",
    "    # will create 1 tile part per resolution level: Rlevels-R0\n",
    "    tile_part_list = []\n",
    "\n",
    "    for level in range(levels+1):\n",
    "        # flatten list of packets\n",
    "        tile_part_packets = [layer for layers in reordered_packets[level][tile_index] for layer in layers]\n",
    "        tile_part_list.append(tile_part_packets)\n",
    "        \n",
    "        \n",
    "    return tile_part_list"
   ]
  },
  {
   "cell_type": "code",
   "execution_count": 47,
   "id": "0cd8b7b6",
   "metadata": {},
   "outputs": [],
   "source": [
    "tile_index = 0\n",
    "tile_part_list = create_tile_parts(tiles[tile_index], reordered_packets_spark_version, levels, layers, components, tile_index)"
   ]
  },
  {
   "cell_type": "code",
   "execution_count": 56,
   "id": "b87e7201",
   "metadata": {},
   "outputs": [
    {
     "name": "stdout",
     "output_type": "stream",
     "text": [
      "codestream_index: 15794, tile_index: 15607, length: 6601, tile: 0, quality layer: 0, resolution: 3, component: 0\n",
      "codestream_index: 32206, tile_index: 32019, length: 7909, tile: 0, quality layer: 1, resolution: 3, component: 0\n",
      "codestream_index: 56858, tile_index: 56671, length: 13441, tile: 0, quality layer: 2, resolution: 3, component: 0\n",
      "codestream_index: 112505, tile_index: 112318, length: 22418, tile: 0, quality layer: 3, resolution: 3, component: 0\n",
      "codestream_index: 199112, tile_index: 198925, length: 26529, tile: 0, quality layer: 4, resolution: 3, component: 0\n",
      "codestream_index: 392621, tile_index: 392434, length: 7586, tile: 0, quality layer: 5, resolution: 3, component: 0\n",
      "codestream_index: 471020, tile_index: 470833, length: 55, tile: 0, quality layer: 6, resolution: 3, component: 0\n",
      "codestream_index: 549480, tile_index: 549293, length: 597, tile: 0, quality layer: 7, resolution: 3, component: 0\n",
      "codestream_index: 628078, tile_index: 627891, length: 158, tile: 0, quality layer: 8, resolution: 3, component: 0\n",
      "codestream_index: 706598, tile_index: 706411, length: 12, tile: 0, quality layer: 9, resolution: 3, component: 0\n",
      "codestream_index: 784973, tile_index: 784786, length: 14, tile: 0, quality layer: 10, resolution: 3, component: 0\n",
      "codestream_index: 833924, tile_index: 833737, length: 12, tile: 0, quality layer: 11, resolution: 3, component: 0\n",
      "codestream_index: 834140, tile_index: 833953, length: 12, tile: 0, quality layer: 12, resolution: 3, component: 0\n",
      "codestream_index: 834356, tile_index: 834169, length: 12, tile: 0, quality layer: 13, resolution: 3, component: 0\n",
      "codestream_index: 834572, tile_index: 834385, length: 12, tile: 0, quality layer: 14, resolution: 3, component: 0\n",
      "codestream_index: 834788, tile_index: 834601, length: 12, tile: 0, quality layer: 15, resolution: 3, component: 0\n",
      "codestream_index: 835004, tile_index: 834817, length: 12, tile: 0, quality layer: 16, resolution: 3, component: 0\n",
      "codestream_index: 835220, tile_index: 835033, length: 12, tile: 0, quality layer: 17, resolution: 3, component: 0\n",
      "codestream_index: 835436, tile_index: 835249, length: 12, tile: 0, quality layer: 18, resolution: 3, component: 0\n",
      "codestream_index: 835661, tile_index: 835474, length: 12, tile: 0, quality layer: 19, resolution: 3, component: 0\n"
     ]
    }
   ],
   "source": [
    "for packet in tile_part_list[3]:\n",
    "    packet.print_all_attributes()"
   ]
  },
  {
   "cell_type": "code",
   "execution_count": null,
   "id": "196911b8",
   "metadata": {},
   "outputs": [],
   "source": [
    "def create_tile_part_header(reordered_packets):\n",
    "    # According to BP_J2K_01.10, the following tile part header segments are needed:\n",
    "    # SOT, PLT, SOD\n",
    "    \n",
    "    # SOT = b\"\\xFF\\x90\"\n",
    "    # Lsot = b\"\\x00\\x0A\"\n",
    "    # Isot: tile index\n",
    "    # Psot: length (in bytes) from beginning of first byte of SOT marker to end of this tile part\n",
    "    # TPsot: tile part index for this tile\n",
    "    # TNsot: total number of tile parts in the codesteam for this tile\n",
    "    \n",
    "    # PLT = b\"\\xFF\\x58\"\n",
    "    # Lplt: length of PLT segment, not including the initial marker (b\"\\xFF\\x58\")\n",
    "    # Zplt: index of this marker segment relative to all other PLT marker segments present in this tile part header\n",
    "    # Iplt-i: length of each packet i (make a function to create these, max_Iplt_length = 65532 bytes so might need more than one)\n",
    "    \n",
    "    # SOD = b\"\\xFF\\x93\"\n",
    "    \n",
    "\n",
    "    return"
   ]
  }
 ],
 "metadata": {
  "kernelspec": {
   "display_name": "Python 3",
   "language": "python",
   "name": "python3"
  },
  "language_info": {
   "codemirror_mode": {
    "name": "ipython",
    "version": 3
   },
   "file_extension": ".py",
   "mimetype": "text/x-python",
   "name": "python",
   "nbconvert_exporter": "python",
   "pygments_lexer": "ipython3",
   "version": "3.6.8"
  }
 },
 "nbformat": 4,
 "nbformat_minor": 5
}
