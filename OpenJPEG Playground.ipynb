{
 "cells": [
  {
   "cell_type": "code",
   "execution_count": 1,
   "metadata": {},
   "outputs": [],
   "source": [
    "import ctypes\n",
    "from ctypes import cdll, create_string_buffer\n",
    "from ctypes import Structure,Union\n",
    "from ctypes import c_int, c_uint32"
   ]
  },
  {
   "cell_type": "code",
   "execution_count": 2,
   "metadata": {},
   "outputs": [],
   "source": [
    "from openjpeg_ctypes import *"
   ]
  },
  {
   "cell_type": "code",
   "execution_count": 3,
   "metadata": {},
   "outputs": [
    {
     "data": {
      "text/plain": [
       "('/usr/local/lib/libopenjp2.dylib',\n",
       " <CDLL '/usr/local/lib/libopenjp2.dylib', handle 7fe494491170 at 0x7fe498737730>)"
      ]
     },
     "execution_count": 3,
     "metadata": {},
     "output_type": "execute_result"
    }
   ],
   "source": [
    "openjp2_path = ctypes.util.find_library('openjp2')\n",
    "openjp2 = cdll.LoadLibrary(openjp2_path)\n",
    "(openjp2_path,openjp2)"
   ]
  },
  {
   "cell_type": "code",
   "execution_count": 4,
   "metadata": {},
   "outputs": [],
   "source": [
    "openjp2.opj_j2k_create_compress.restype = ctypes.c_void_p\n",
    "r = openjp2.opj_j2k_create_compress()\n",
    "q = opj_j2k.from_address(r)"
   ]
  },
  {
   "cell_type": "code",
   "execution_count": null,
   "metadata": {},
   "outputs": [],
   "source": [
    "def display_structure(s,prefix=None):\n",
    "    for (f,_) in s._fields_:\n",
    "        v = s.__getattribute__(f)\n",
    "        label = f if prefix == None else f'{prefix}.{f}'\n",
    "        if isinstance(v,Structure) or isinstance(v,Union):\n",
    "            display_structure(v,label)\n",
    "        else:\n",
    "            print(f'{label}: {v}')"
   ]
  },
  {
   "cell_type": "code",
   "execution_count": null,
   "metadata": {},
   "outputs": [],
   "source": [
    "display_structure(q)"
   ]
  },
  {
   "cell_type": "code",
   "execution_count": null,
   "metadata": {},
   "outputs": [],
   "source": [
    "isinstance(q,Union)"
   ]
  },
  {
   "cell_type": "code",
   "execution_count": null,
   "metadata": {},
   "outputs": [],
   "source": []
  }
 ],
 "metadata": {
  "kernelspec": {
   "display_name": "Python 3",
   "language": "python",
   "name": "python3"
  },
  "language_info": {
   "codemirror_mode": {
    "name": "ipython",
    "version": 3
   },
   "file_extension": ".py",
   "mimetype": "text/x-python",
   "name": "python",
   "nbconvert_exporter": "python",
   "pygments_lexer": "ipython3",
   "version": "3.8.5"
  }
 },
 "nbformat": 4,
 "nbformat_minor": 4
}
