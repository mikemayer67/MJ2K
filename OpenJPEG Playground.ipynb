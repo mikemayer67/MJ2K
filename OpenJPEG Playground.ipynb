{
 "cells": [
  {
   "cell_type": "code",
   "execution_count": null,
   "metadata": {},
   "outputs": [],
   "source": [
    "import numpy as np\n",
    "from PIL import Image\n",
    "\n",
    "from ctypes import pointer,byref\n",
    "\n",
    "from mamj2k_ctypes import *"
   ]
  },
  {
   "cell_type": "code",
   "execution_count": null,
   "metadata": {},
   "outputs": [],
   "source": [
    "mamj2k_path = ctypes.util.find_library('mamj2k')\n",
    "print(f'Loading MAMJ2K library from {mamj2k_path}')\n",
    "mj2k = cdll.LoadLibrary(mamj2k_path)"
   ]
  },
  {
   "cell_type": "code",
   "execution_count": null,
   "metadata": {},
   "outputs": [],
   "source": [
    "mj2k.mj2k_opj_version.restype = c_char_p\n",
    "mj2k.mj2k_opj_version().decode('UTF-8')"
   ]
  },
  {
   "cell_type": "code",
   "execution_count": null,
   "metadata": {},
   "outputs": [],
   "source": [
    "def display_rgb_image(image):\n",
    "    c = image.comp[0]\n",
    "    w = c.w\n",
    "    h = c.h\n",
    "    n = w * h\n",
    "    print(f'origin:({c.x0},{c.y0} size:({w},{h}) stride:({c.dx},{c.dy})')\n",
    "    rgb = ( image.comp[i] for i in range(3) )\n",
    "    rgb = ( ctypes.cast(c.pixels, POINTER(c_uint8 * n)).contents for c in rgb )\n",
    "    rgb = [ np.array(p).reshape((h,w)) for p in rgb ]\n",
    "    rgb = np.dstack(rgb)\n",
    "    display(Image.fromarray(rgb))\n",
    "    \n",
    "def display_bw_image(comp):\n",
    "    w = comp.w\n",
    "    h = comp.h\n",
    "    n = w * h\n",
    "    print(f'origin:({comp.x0},{comp.y0} size:({w},{h}) stride:({comp.dx},{comp.dy})')\n",
    "    pixels = ctypes.cast(comp.pixels, POINTER(c_uint8 * n)).contents\n",
    "    pixels = np.array(pixels).reshape((h,w))\n",
    "    image = Image.fromarray(pixels)\n",
    "    display(image)\n",
    "    \n",
    "def display_image(image):\n",
    "    if (image.ncomp == 3 and\n",
    "        image.comp[0].rgb_compatible(image.comp[1]) and\n",
    "        image.comp[0].rgb_compatible(image.comp[2])\n",
    "       ):\n",
    "        print(\"DISPLAY RGB\")\n",
    "        display_rgb_image(image)\n",
    "    else:\n",
    "        print(\"NOT RGB, DISPLAY COMPONENTS\")\n",
    "        for i in range(image.ncomp):\n",
    "            print(f'COMP {i+1}')\n",
    "            display_bw_image(image.comp[i])"
   ]
  },
  {
   "cell_type": "code",
   "execution_count": null,
   "metadata": {
    "scrolled": false
   },
   "outputs": [],
   "source": [
    "j2k_filename = 'SampleImagery/p0_07.j2k'\n",
    "\n",
    "mj2k.mj2k_read_j2k.argtypes = [c_char_p]\n",
    "mj2k.mj2k_read_j2k.restype = POINTER(MJ2K_IMAGE_T)\n",
    "image_p = mj2k.mj2k_read_j2k(j2k_filename.encode('UTF-8'))\n",
    "image = image_p.contents\n",
    "\n",
    "display_image(image)\n",
    "\n",
    "with open(j2k_filename,'rb') as j2k_file:\n",
    "    j2k = j2k_file.read()\n",
    "    \n",
    "mj2k.mj2k_parse_j2k.argtypes = [c_char_p,c_int64]\n",
    "mj2k.mj2k_parse_j2k.restype = POINTER(MJ2K_IMAGE_T)\n",
    "image_p = mj2k.mj2k_parse_j2k(j2k, len(j2k))\n",
    "image = image_p.contents\n",
    "\n",
    "display_image(image)\n"
   ]
  }
 ],
 "metadata": {
  "kernelspec": {
   "display_name": "Python 3",
   "language": "python",
   "name": "python3"
  },
  "language_info": {
   "codemirror_mode": {
    "name": "ipython",
    "version": 3
   },
   "file_extension": ".py",
   "mimetype": "text/x-python",
   "name": "python",
   "nbconvert_exporter": "python",
   "pygments_lexer": "ipython3",
   "version": "3.8.5"
  }
 },
 "nbformat": 4,
 "nbformat_minor": 4
}
