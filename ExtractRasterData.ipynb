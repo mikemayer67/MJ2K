{
 "cells": [
  {
   "cell_type": "code",
   "execution_count": null,
   "metadata": {},
   "outputs": [],
   "source": [
    "from glob import glob\n",
    "from PIL import Image\n",
    "import numpy as np\n",
    "import os\n",
    "import sys"
   ]
  },
  {
   "cell_type": "code",
   "execution_count": null,
   "metadata": {
    "scrolled": false
   },
   "outputs": [],
   "source": [
    "image_files = ( glob(f'StockPhotos/*.{ext}') for ext in ('png','jpg','jpeg') )\n",
    "image_files = [ name for names in image_files for name in names ]\n",
    "\n",
    "for image_file in image_files:\n",
    "    image = Image.open(image_file)\n",
    "    print(f'In: {image_file}')\n",
    "    \n",
    "    bbox = image.getbbox()\n",
    "    w = bbox[2] - bbox[0]\n",
    "    h = bbox[3] - bbox[1]\n",
    "    \n",
    "    bands = list(image.getbands())\n",
    "    nbands = len(bands)\n",
    "    if nbands % 2 == 0:\n",
    "        nbands = nbands - 1 \n",
    "        bands = bands[0:nbands]\n",
    "        \n",
    "    if nbands == 3:\n",
    "        (r,g,b) = tuple( np.array(image.getdata(i),dtype='B') for i in range(nbands) )\n",
    "        deltas = np.abs(r - g) + np.abs(r - b) + np.abs(g-b)\n",
    "        if deltas.max() > 0:\n",
    "            print(f'RGB Image {w}x{h}')\n",
    "        else:\n",
    "            print(f'Flatten RGB to Monotone Image {w}x{h}')\n",
    "            nbands = 1\n",
    "            z = r\n",
    "    else:\n",
    "        print(f'Monotone Image {w}x{h}')\n",
    "        z = np.array(image.getdata(0),dtype='B')\n",
    "        \n",
    "    raster_filename = os.path.splitext(image_file)[0] + ('_bw.rd' if nbands == 1 else '_rgb.rd')\n",
    "    print(f'Out: {raster_filename}')\n",
    "    \n",
    "    f = open(raster_filename,'wb')\n",
    "    f.write(w.to_bytes(4,sys.byteorder))\n",
    "    f.write(h.to_bytes(4,sys.byteorder))\n",
    "    f.write(nbands.to_bytes(4,sys.byteorder))\n",
    "    \n",
    "    if nbands == 3:\n",
    "        f.write(r.tobytes())\n",
    "        f.write(g.tobytes())\n",
    "        f.write(b.tobytes())\n",
    "    else:\n",
    "        f.write(z.tobytes())\n",
    "    \n",
    "    f.close()\n",
    "    \n",
    "    display(image)"
   ]
  }
 ],
 "metadata": {
  "kernelspec": {
   "display_name": "Python 3",
   "language": "python",
   "name": "python3"
  },
  "language_info": {
   "codemirror_mode": {
    "name": "ipython",
    "version": 3
   },
   "file_extension": ".py",
   "mimetype": "text/x-python",
   "name": "python",
   "nbconvert_exporter": "python",
   "pygments_lexer": "ipython3",
   "version": "3.8.5"
  }
 },
 "nbformat": 4,
 "nbformat_minor": 4
}
