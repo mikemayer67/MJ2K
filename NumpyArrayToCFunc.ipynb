{
 "cells": [
  {
   "cell_type": "code",
   "execution_count": null,
   "id": "palestinian-fishing",
   "metadata": {},
   "outputs": [],
   "source": [
    "import ctypes\n",
    "from ctypes import cdll\n",
    "from ctypes import c_uint8, c_uint32\n",
    "from ctypes import POINTER\n",
    "\n",
    "import numpy as np\n",
    "import os"
   ]
  },
  {
   "cell_type": "code",
   "execution_count": null,
   "id": "constant-salvation",
   "metadata": {},
   "outputs": [],
   "source": [
    "npix = 10\n",
    "ncomp = 3\n",
    "pixels = np.random.randint(0,high=255,size=(npix,ncomp),dtype=np.uint32)\n",
    "pixels = pixels.transpose()\n",
    "pixels"
   ]
  },
  {
   "cell_type": "markdown",
   "id": "attempted-runner",
   "metadata": {},
   "source": [
    "## Setting up the external DLL call"
   ]
  },
  {
   "cell_type": "code",
   "execution_count": null,
   "id": "lasting-generic",
   "metadata": {},
   "outputs": [],
   "source": [
    "lib_path = os.path.join(os.getcwd(), 'playground', 'accumulator', 'libaccumulator.so')\n",
    "print(lib_path)\n",
    "acl = cdll.LoadLibrary(lib_path)\n",
    "acl.accumulate.restype = c_uint32\n",
    "acl.accumulate.argtypes = [c_uint8, POINTER(c_uint32)]"
   ]
  },
  {
   "cell_type": "markdown",
   "id": "gorgeous-forge",
   "metadata": {},
   "source": [
    "## Using np.ctypes.data_as"
   ]
  },
  {
   "cell_type": "code",
   "execution_count": null,
   "id": "registered-owner",
   "metadata": {},
   "outputs": [],
   "source": [
    "for i in range(ncomp):\n",
    "    t_pixels = pixels[i,:]\n",
    "    c_pixels = t_pixels.ctypes.data_as(ctypes.POINTER(c_uint32))\n",
    "    rval = acl.accumulate(npix, c_pixels)\n",
    "    truth = pixels[i,:].sum()\n",
    "    print(f'values: {t_pixels}')\n",
    "    print(f'  rval: {rval}   (truth = {truth})')"
   ]
  },
  {
   "cell_type": "markdown",
   "id": "subjective-cemetery",
   "metadata": {},
   "source": [
    "## Using c_uint32 * N"
   ]
  },
  {
   "cell_type": "code",
   "execution_count": null,
   "id": "reduced-father",
   "metadata": {},
   "outputs": [],
   "source": [
    "for i in range(ncomp):\n",
    "    p = pixels[i,:]\n",
    "    print((p.dtype,type(p)))\n",
    "    t_pixels = pixels[i,:].tolist()\n",
    "    print(type(t_pixels))\n",
    "    PixelListType = ctypes.c_uint32*npix\n",
    "    print(PixelListType)\n",
    "    c_pixels = PixelListType(*t_pixels)\n",
    "    print(c_pixels)\n",
    "    rval = acl.accumulate(npix, c_pixels)\n",
    "    truth = pixels[i,:].sum()\n",
    "    print(f'values: {pixels[i,:]}')\n",
    "    print(f'  rval: {rval}   (truth = {truth})')"
   ]
  },
  {
   "cell_type": "code",
   "execution_count": null,
   "id": "later-platform",
   "metadata": {},
   "outputs": [],
   "source": [
    "pixels[i,:].tolist()"
   ]
  },
  {
   "cell_type": "code",
   "execution_count": null,
   "id": "bacterial-robinson",
   "metadata": {},
   "outputs": [],
   "source": []
  }
 ],
 "metadata": {
  "kernelspec": {
   "display_name": "Python 3",
   "language": "python",
   "name": "python3"
  },
  "language_info": {
   "codemirror_mode": {
    "name": "ipython",
    "version": 3
   },
   "file_extension": ".py",
   "mimetype": "text/x-python",
   "name": "python",
   "nbconvert_exporter": "python",
   "pygments_lexer": "ipython3",
   "version": "3.6.8"
  }
 },
 "nbformat": 4,
 "nbformat_minor": 5
}
