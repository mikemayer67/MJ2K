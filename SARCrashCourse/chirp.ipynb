{
 "cells": [
  {
   "cell_type": "markdown",
   "metadata": {},
   "source": [
    "# Dimensional"
   ]
  },
  {
   "cell_type": "markdown",
   "metadata": {},
   "source": [
    "## Transmitted Pulse at Antenna\n",
    "\n",
    "$$\n",
    "\\begin{align}\n",
    "\\sigma_o(t) &= \\tau\\left[0\\le t\\le T_x\\right]\\dot\\sin\\big[\\phi(t)\\big] \\\\\n",
    "\\phi(t) &= 2\\pi\\left(\\frac{\\dot{f}t^2}{2}+\\left(f_o-\\tfrac12B_{RF}\\right)t\\right)\\\\\n",
    "\\end{align}\n",
    "$$"
   ]
  },
  {
   "cell_type": "markdown",
   "metadata": {},
   "source": [
    "## Transmitted Pulse at point x\n",
    "\n",
    "$$\n",
    "\\begin{align}\n",
    "\\sigma(t,x) &= \\sigma_o\\left(t-\\frac{x}{c}\\right) \\\\\n",
    "&= \\tau\\left[0\\le t-\\frac{x}{c}\\le T_x\\right]\\sin\\left[\\phi\\left(t-\\frac{x}{c}\\right)\\right]\\\\\n",
    "&= \\tau\\left[\\frac{x}{c}\\le t\\le\\frac{x + cT_x}{c}\\right]\\sin\\left[\\phi\\left(t-\\frac{x}{c}\\right)\\right]\\\\\n",
    "&= \\tau\\big[c\\left(t-T_x\\right)\\le x\\le ct\\big]\\sin\\left[\\phi\\left(t-\\frac{x}{c}\\right)\\right]\\\\\n",
    "\\end{align}\n",
    "$$"
   ]
  },
  {
   "cell_type": "markdown",
   "metadata": {},
   "source": [
    "## Received at target at point $X_{t}$\n",
    "\n",
    "$$\n",
    "\\sigma_t(t) = \\sigma\\left(t,\\frac{X_t}{c}\\right)\n",
    "= \\tau\\left[\\frac{X_t}{c}\\le t\\le\\frac{X_t + cT_x}{c}\\right]\\sin\\left[\\phi\\left(t-\\frac{X_t}{c}\\right)\\right]\n",
    "$$"
   ]
  },
  {
   "cell_type": "markdown",
   "metadata": {},
   "source": [
    "## Echo from target at point $X_t$\n",
    "\n",
    "$$\n",
    "\\begin{align}\n",
    "\\epsilon(t,x) &= \\sigma_t\\left(t-\\frac{X_t-x}{c}\\right) \\\\\n",
    "&= \\tau\\left[\\frac{X_t}{c}\\le t-\\frac{X_t-x}{c}\\le\\frac{X_t + cT_x}{c}\\right]\\sin\\left[\\phi\\left(t-\\frac{X_t-x}{c}-\\frac{X_t}{c}\\right)\\right] \\\\\n",
    "&= \\tau\\left[\\frac{2X_t-x}{c}\\le t\\le\\frac{2X_t + cT_x - x}{c}\\right]\\sin\\left[\\phi\\left(t-\\frac{2X_t-x}{c}\\right)\\right] \\\\\n",
    "&= \\tau\\big[2X_t-ct\\le x\\le 2X_t + cT_x - ct\\big]\\sin\\left[\\phi\\left(t-\\frac{2X_t-x}{c}\\right)\\right] \\\\\n",
    "\\end{align}\n",
    "$$"
   ]
  },
  {
   "cell_type": "markdown",
   "metadata": {},
   "source": [
    "# Dimensionless"
   ]
  },
  {
   "cell_type": "markdown",
   "metadata": {},
   "source": [
    "$$\n",
    "\\lambda_o = \\frac{c}{f_o} \\qquad\n",
    "\\hat{f}_o = f_o\\,T_x \\qquad\n",
    "\\hat{\\dot{f}} = \\dot{f}\\,T_x^2 \\qquad\n",
    "\\hat B_{RF} = B_{RF}\\,T_x\n",
    "\\\\\n",
    "\\hat{t} = \\frac{t}{T_x} \\qquad\n",
    "\\hat{x} = \\frac{x}{\\lambda_o} = \\frac{x f_o}{c} \\qquad\n",
    "\\hat c = \\frac{c T_x}{\\lambda_o}\n",
    "\\\\\n",
    "c = f_o \\lambda_o\n",
    "\\quad\\rightarrow\\quad \n",
    "\\frac{\\hat c\\lambda_o}{T_x} = \\frac{\\hat f_o\\lambda_o}{T_x}\n",
    "\\quad\\rightarrow\\quad \\hat c=\\hat f_o\n",
    "\\\\\n",
    "c T_x = n_o\\lambda_o = \\hat c \\lambda_o\n",
    "\\quad\\rightarrow\\quad \\hat c=\\hat{f}_o = n_o\n",
    "\\\\\n",
    "\\dot f = \\frac{B_{Rf}}{T_x}\n",
    "\\quad\\rightarrow\\quad \\hat{\\dot{f}} = B_{RF}T_x = \\hat B_{RF}\n",
    "$$"
   ]
  },
  {
   "cell_type": "markdown",
   "metadata": {},
   "source": [
    "## Transmitted Pulse at Antenna\n",
    "\n",
    "$$\n",
    "\\begin{align}\n",
    "\\sigma_o(t) = \\sigma_o(\\hat t T_x) &= \\tau\\left[0\\le\\hat t T_x\\le T_x\\right]\\dot\\sin\\big[\\phi(\\hat t T_x)\\big]\\\\\n",
    "\\hat\\sigma_o(\\hat t)&= \\tau\\left[0\\le\\hat{t}\\le 1\\right]\\dot\\sin\\big[\\hat\\phi(\\hat{t})\\big] \\\\\n",
    "\\\\\n",
    "\\phi(t) = \\phi(\\hat t T_x) &= 2\\pi\\left(\\frac{\\dot{f}(\\hat{t}T_x)^2}{2}+\\left(f_o-\\tfrac12B_{RF}\\right)\\hat{t}T_x\\right)\\\\\n",
    "&= 2\\pi\\left(\\frac{\\hat B_{RF}\\hat{t}^2}{2}+\\left(\\hat f_o-\\tfrac12\\hat B_{RF}\\right)\\hat{t}\\right)\\\\\n",
    "\\hat\\phi(\\hat t) &= 2\\pi\\left(\\tfrac12\\hat B_{RF}(\\hat{t}^2-\\hat t)+n_o\\hat{t}\\right)\\\\\n",
    "\\end{align}\n",
    "$$"
   ]
  },
  {
   "cell_type": "markdown",
   "metadata": {},
   "source": [
    "## Transmitted Pulse at point x\n",
    "\n",
    "$$\n",
    "\\begin{align}\n",
    "\\sigma(t,x) = \\sigma(\\hat t T_x,\\hat x\\lambda_o) \n",
    "&= \\sigma_o\\left(\\hat t T_x-\\frac{\\hat x\\lambda_o}{c}\\right) \\\\\n",
    "&=\\hat\\sigma_o\\left(\\hat t-\\frac{\\hat x\\lambda_o}{cT_x}\\right) \\\\\n",
    "&=\\hat\\sigma_o\\left(\\hat t-\\frac{\\hat x}{n_o}\\right)\\\\\n",
    "\\hat\\sigma(\\hat t,\\hat x)\n",
    "&= \\tau\\left[0\\le \\hat t-\\frac{\\hat x}{n_o}\\le 1\\right]\\sin\\left[\\hat\\phi\\left(\\hat t-\\frac{\\hat x}{n_o}\\right)\\right]\\\\\n",
    "&= \\tau\\left[\\frac{\\hat x}{n_o}\\le \\hat t\\le1+\\frac{\\hat x}{n_o}\\right]\\sin\\left[\\hat\\phi\\left(\\hat t-\\frac{\\hat x}{n_o}\\right)\\right]\\\\\n",
    "&= \\tau\\big[(\\hat t-1)n_o\\le \\hat x\\le \\hat t n_o\\big]\\sin\\left[\\hat\\phi\\left(\\hat t-\\frac{\\hat x}{n_o}\\right)\\right]\\\\\n",
    "\\end{align}\n",
    "$$"
   ]
  },
  {
   "cell_type": "markdown",
   "metadata": {},
   "source": [
    "## Received at target at point $X_{t}$\n",
    "\n",
    "$$\n",
    "\\sigma_t(t) = \\sigma_t(\\hat t T_x) = \\hat\\sigma_t(\\hat t) = \\hat\\sigma(\\hat t,\\hat X_t)\n",
    "= \\tau\\left[\\frac{\\hat X_t}{n_o}\\le \\hat t\\le1+\\frac{\\hat X_t}{n_o}\\right]\\sin\\left[\\hat\\phi\\left(\\hat t-\\frac{\\hat X_t}{n_o}\\right)\\right]\\\\\n",
    "$$"
   ]
  },
  {
   "cell_type": "markdown",
   "metadata": {},
   "source": [
    "## Echo from target at point $X_t$\n",
    "\n",
    "$$\n",
    "\\begin{align}\n",
    "\\epsilon_t(t,x) = \\epsilon_t(\\hat t T_x, \\hat x \\lambda_o) \n",
    "&= \\sigma_t\\left(\\hat t T_x-\\frac{(\\hat X_t-\\hat x)T_x}{\\hat c}\\right) \n",
    "= \\hat\\sigma_t\\left(\\hat t -\\frac{\\hat X_t-\\hat x}{n_o}\\right) \\\\\n",
    "&= \\tau\\left[\\frac{2\\hat X_t-\\hat x}{n_o}\\le \\hat t\\le 1+\\frac{2\\hat X_t-\\hat x}{n_o}\\right]\\sin\\left[\\hat\\phi\\left(\\hat t -\\frac{2\\hat X_t-\\hat x}{n_o}\\right)\\right] \\\\\n",
    "\\hat\\epsilon_t(\\hat t,\\hat x)\n",
    "&= \\tau\\big[2\\hat X_t-n_o\\hat t\\le\\hat x\\le2\\hat X_t-n_o(\\hat t-1)\\big]\\sin\\left[\\hat\\phi\\left(\\hat t -\\frac{2\\hat X_t-\\hat x}{n_o}\\right)\\right] \\\\\n",
    "\\end{align}\n",
    "$$"
   ]
  },
  {
   "cell_type": "markdown",
   "metadata": {},
   "source": [
    "## Return signal at antenna\n",
    "\n",
    "$$\n",
    "\\begin{align}\n",
    "\\hat\\psi(\\hat t) = \\sum_{tgt}\\hat\\epsilon_{tgt}(\\hat t,0) = \\sum_{tgt}\\tau\\left[\\frac{2\\hat X_{tgt}}{n_o}\\le \\hat t\\le 1+\\frac{2\\hat X_{tgt}}{n_o}\\right]\\sin\\left[\\hat\\phi\\left(\\hat t -\\frac{2\\hat X_{tgt}}{n_o}\\right)\\right]\n",
    "\\end{align}\n",
    "$$"
   ]
  },
  {
   "cell_type": "code",
   "execution_count": null,
   "metadata": {},
   "outputs": [],
   "source": []
  }
 ],
 "metadata": {
  "kernelspec": {
   "display_name": "Python 3",
   "language": "python",
   "name": "python3"
  },
  "language_info": {
   "codemirror_mode": {
    "name": "ipython",
    "version": 3
   },
   "file_extension": ".py",
   "mimetype": "text/x-python",
   "name": "python",
   "nbconvert_exporter": "python",
   "pygments_lexer": "ipython3",
   "version": "3.8.5"
  }
 },
 "nbformat": 4,
 "nbformat_minor": 4
}
