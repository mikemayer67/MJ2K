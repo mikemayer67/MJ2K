{
 "cells": [
  {
   "cell_type": "code",
   "execution_count": 2,
   "metadata": {},
   "outputs": [
    {
     "data": {
      "text/plain": [
       "[('A', {'name': 'xyz', 'id': 7}),\n",
       " ('A', {'name': 'xyz', 'id': 8}),\n",
       " ('B', {'handle': 'xyz', 'id': 9}),\n",
       " ('B', {'handle': 'xyz', 'id': 10}),\n",
       " ('C', 'xyz'),\n",
       " ('A', {'name': 'xyz', 'id': 11}),\n",
       " ('A', {'name': 'xyz', 'id': 12})]"
      ]
     },
     "execution_count": 2,
     "metadata": {},
     "output_type": "execute_result"
    }
   ],
   "source": [
    "import importlib\n",
    "import oot\n",
    "\n",
    "r = []\n",
    "for f in 'AABBCAA':\n",
    "    try:\n",
    "        m = importlib.import_module(f'oot.{f}')\n",
    "        c = getattr(m,f)\n",
    "        r.append((f,c('xyz').__dict__))\n",
    "    except:\n",
    "        r.append((f,'xyz'))\n",
    "\n",
    "r"
   ]
  }
 ],
 "metadata": {
  "kernelspec": {
   "display_name": "Python 3",
   "language": "python",
   "name": "python3"
  },
  "language_info": {
   "codemirror_mode": {
    "name": "ipython",
    "version": 3
   },
   "file_extension": ".py",
   "mimetype": "text/x-python",
   "name": "python",
   "nbconvert_exporter": "python",
   "pygments_lexer": "ipython3",
   "version": "3.8.5"
  }
 },
 "nbformat": 4,
 "nbformat_minor": 4
}
