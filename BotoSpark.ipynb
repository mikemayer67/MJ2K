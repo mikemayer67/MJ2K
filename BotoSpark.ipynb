{
 "cells": [
  {
   "cell_type": "code",
   "execution_count": 4,
   "metadata": {},
   "outputs": [],
   "source": [
    "import boto3\n",
    "import numpy as np\n",
    "from pyspark.sql import SparkSession\n",
    "from functools import partial"
   ]
  },
  {
   "cell_type": "markdown",
   "metadata": {},
   "source": [
    "## Spark alone"
   ]
  },
  {
   "cell_type": "code",
   "execution_count": 5,
   "metadata": {},
   "outputs": [
    {
     "name": "stdout",
     "output_type": "stream",
     "text": [
      "<SparkContext master=local[*] appName=Untitled>\n"
     ]
    }
   ],
   "source": [
    "sc = SparkSession.builder.appName('Untitled').getOrCreate().sparkContext\n",
    "print(sc)"
   ]
  },
  {
   "cell_type": "code",
   "execution_count": 3,
   "metadata": {},
   "outputs": [],
   "source": [
    "rdd = sc.parallelize([i for i in range(20)])"
   ]
  },
  {
   "cell_type": "code",
   "execution_count": 4,
   "metadata": {},
   "outputs": [],
   "source": [
    "def gen_data(n):\n",
    "    return 20*(n.to_bytes(1,byteorder='little'))"
   ]
  },
  {
   "cell_type": "code",
   "execution_count": 5,
   "metadata": {},
   "outputs": [],
   "source": [
    "blocks = rdd.map(gen_data)"
   ]
  },
  {
   "cell_type": "code",
   "execution_count": 6,
   "metadata": {},
   "outputs": [
    {
     "data": {
      "text/plain": [
       "[b'\\x00\\x00\\x00\\x00\\x00\\x00\\x00\\x00\\x00\\x00\\x00\\x00\\x00\\x00\\x00\\x00\\x00\\x00\\x00\\x00',\n",
       " b'\\x01\\x01\\x01\\x01\\x01\\x01\\x01\\x01\\x01\\x01\\x01\\x01\\x01\\x01\\x01\\x01\\x01\\x01\\x01\\x01',\n",
       " b'\\x02\\x02\\x02\\x02\\x02\\x02\\x02\\x02\\x02\\x02\\x02\\x02\\x02\\x02\\x02\\x02\\x02\\x02\\x02\\x02',\n",
       " b'\\x03\\x03\\x03\\x03\\x03\\x03\\x03\\x03\\x03\\x03\\x03\\x03\\x03\\x03\\x03\\x03\\x03\\x03\\x03\\x03',\n",
       " b'\\x04\\x04\\x04\\x04\\x04\\x04\\x04\\x04\\x04\\x04\\x04\\x04\\x04\\x04\\x04\\x04\\x04\\x04\\x04\\x04',\n",
       " b'\\x05\\x05\\x05\\x05\\x05\\x05\\x05\\x05\\x05\\x05\\x05\\x05\\x05\\x05\\x05\\x05\\x05\\x05\\x05\\x05',\n",
       " b'\\x06\\x06\\x06\\x06\\x06\\x06\\x06\\x06\\x06\\x06\\x06\\x06\\x06\\x06\\x06\\x06\\x06\\x06\\x06\\x06',\n",
       " b'\\x07\\x07\\x07\\x07\\x07\\x07\\x07\\x07\\x07\\x07\\x07\\x07\\x07\\x07\\x07\\x07\\x07\\x07\\x07\\x07',\n",
       " b'\\x08\\x08\\x08\\x08\\x08\\x08\\x08\\x08\\x08\\x08\\x08\\x08\\x08\\x08\\x08\\x08\\x08\\x08\\x08\\x08',\n",
       " b'\\t\\t\\t\\t\\t\\t\\t\\t\\t\\t\\t\\t\\t\\t\\t\\t\\t\\t\\t\\t',\n",
       " b'\\n\\n\\n\\n\\n\\n\\n\\n\\n\\n\\n\\n\\n\\n\\n\\n\\n\\n\\n\\n',\n",
       " b'\\x0b\\x0b\\x0b\\x0b\\x0b\\x0b\\x0b\\x0b\\x0b\\x0b\\x0b\\x0b\\x0b\\x0b\\x0b\\x0b\\x0b\\x0b\\x0b\\x0b',\n",
       " b'\\x0c\\x0c\\x0c\\x0c\\x0c\\x0c\\x0c\\x0c\\x0c\\x0c\\x0c\\x0c\\x0c\\x0c\\x0c\\x0c\\x0c\\x0c\\x0c\\x0c',\n",
       " b'\\r\\r\\r\\r\\r\\r\\r\\r\\r\\r\\r\\r\\r\\r\\r\\r\\r\\r\\r\\r',\n",
       " b'\\x0e\\x0e\\x0e\\x0e\\x0e\\x0e\\x0e\\x0e\\x0e\\x0e\\x0e\\x0e\\x0e\\x0e\\x0e\\x0e\\x0e\\x0e\\x0e\\x0e',\n",
       " b'\\x0f\\x0f\\x0f\\x0f\\x0f\\x0f\\x0f\\x0f\\x0f\\x0f\\x0f\\x0f\\x0f\\x0f\\x0f\\x0f\\x0f\\x0f\\x0f\\x0f',\n",
       " b'\\x10\\x10\\x10\\x10\\x10\\x10\\x10\\x10\\x10\\x10\\x10\\x10\\x10\\x10\\x10\\x10\\x10\\x10\\x10\\x10',\n",
       " b'\\x11\\x11\\x11\\x11\\x11\\x11\\x11\\x11\\x11\\x11\\x11\\x11\\x11\\x11\\x11\\x11\\x11\\x11\\x11\\x11',\n",
       " b'\\x12\\x12\\x12\\x12\\x12\\x12\\x12\\x12\\x12\\x12\\x12\\x12\\x12\\x12\\x12\\x12\\x12\\x12\\x12\\x12',\n",
       " b'\\x13\\x13\\x13\\x13\\x13\\x13\\x13\\x13\\x13\\x13\\x13\\x13\\x13\\x13\\x13\\x13\\x13\\x13\\x13\\x13']"
      ]
     },
     "execution_count": 6,
     "metadata": {},
     "output_type": "execute_result"
    }
   ],
   "source": [
    "blocks.collect()"
   ]
  },
  {
   "cell_type": "markdown",
   "metadata": {},
   "source": [
    "## Boto3 alone"
   ]
  },
  {
   "cell_type": "code",
   "execution_count": null,
   "metadata": {},
   "outputs": [],
   "source": [
    "s3 = boto3.client('s3')\n",
    "mpu = s3.create_multipart_upload(Bucket='vmwishes-test',Key='junk.dtb')\n",
    "mpu['UploadId']"
   ]
  },
  {
   "cell_type": "code",
   "execution_count": null,
   "metadata": {},
   "outputs": [],
   "source": [
    "head_part = s3.upload_part(Bucket='vmwishes-test',Key='junk.dtb',\n",
    "                           PartNumber=1,\n",
    "                           UploadId=mpu['UploadId'],\n",
    "                           Body=5400000*b'H')\n",
    "parts = [{ 'PartNumber':1, 'ETag':head_part['ETag']}]"
   ]
  },
  {
   "cell_type": "code",
   "execution_count": null,
   "metadata": {},
   "outputs": [],
   "source": [
    "for n in range(20):\n",
    "    np = s3.upload_part(Bucket='vmwishes-test',Key='junk.dtb',\n",
    "                           PartNumber=2+n,\n",
    "                           UploadId=mpu['UploadId'],\n",
    "                           Body=5400000*(n.to_bytes(1,byteorder='little')))\n",
    "    \n",
    "    parts.append( {'PartNumber':2+n, 'ETag':np['ETag']} )\n",
    "    print(f\"Uploaded {n}: {np['ETag']}\")\n",
    "    "
   ]
  },
  {
   "cell_type": "code",
   "execution_count": null,
   "metadata": {},
   "outputs": [],
   "source": [
    "parts"
   ]
  },
  {
   "cell_type": "code",
   "execution_count": null,
   "metadata": {
    "scrolled": false
   },
   "outputs": [],
   "source": [
    "result = s3.complete_multipart_upload(Bucket='vmwishes-test',\n",
    "                                      Key='junk.dtb',\n",
    "                                      MultipartUpload={'Parts':parts},\n",
    "                                      UploadId=mpu['UploadId'])"
   ]
  },
  {
   "cell_type": "code",
   "execution_count": 16,
   "metadata": {},
   "outputs": [
    {
     "data": {
      "text/plain": [
       "{'ResponseMetadata': {'RequestId': 'HPMD39ZVA22DJWN7',\n",
       "  'HostId': 'XaBCsd7/d2IYHM2G7UI/kV1QFzxp/FkDSjMw3Kch9duHJEyMPdd2xQIGqZZE1WSqU12S3W6q0XQ=',\n",
       "  'HTTPStatusCode': 204,\n",
       "  'HTTPHeaders': {'x-amz-id-2': 'XaBCsd7/d2IYHM2G7UI/kV1QFzxp/FkDSjMw3Kch9duHJEyMPdd2xQIGqZZE1WSqU12S3W6q0XQ=',\n",
       "   'x-amz-request-id': 'HPMD39ZVA22DJWN7',\n",
       "   'date': 'Sat, 05 Jun 2021 04:37:57 GMT',\n",
       "   'server': 'AmazonS3'},\n",
       "  'RetryAttempts': 0}}"
      ]
     },
     "execution_count": 16,
     "metadata": {},
     "output_type": "execute_result"
    }
   ],
   "source": [
    "s3.abort_multipart_upload(Bucket='vmwishes-test',\n",
    "                                      Key='junk.dtb',\n",
    "                                      UploadId=mpu['UploadId'])"
   ]
  },
  {
   "cell_type": "code",
   "execution_count": 17,
   "metadata": {},
   "outputs": [
    {
     "data": {
      "text/plain": [
       "{'ResponseMetadata': {'RequestId': 'N8VHNP644ZB8VKYQ',\n",
       "  'HostId': '6/mHis32LxqbM0Vg5dPSe3lKvPT+72/gg2OeaegsFkHkB3lV08HnjY4C4D/oKs1jtdfHcY7o7OI=',\n",
       "  'HTTPStatusCode': 200,\n",
       "  'HTTPHeaders': {'x-amz-id-2': '6/mHis32LxqbM0Vg5dPSe3lKvPT+72/gg2OeaegsFkHkB3lV08HnjY4C4D/oKs1jtdfHcY7o7OI=',\n",
       "   'x-amz-request-id': 'N8VHNP644ZB8VKYQ',\n",
       "   'date': 'Sat, 05 Jun 2021 04:38:00 GMT',\n",
       "   'content-type': 'application/xml',\n",
       "   'transfer-encoding': 'chunked',\n",
       "   'server': 'AmazonS3'},\n",
       "  'RetryAttempts': 0},\n",
       " 'Bucket': 'vmwishes-test',\n",
       " 'KeyMarker': '',\n",
       " 'UploadIdMarker': '',\n",
       " 'NextKeyMarker': '',\n",
       " 'NextUploadIdMarker': '',\n",
       " 'MaxUploads': 1000,\n",
       " 'IsTruncated': False}"
      ]
     },
     "execution_count": 17,
     "metadata": {},
     "output_type": "execute_result"
    }
   ],
   "source": [
    "s3.list_multipart_uploads(Bucket='vmwishes-test')"
   ]
  },
  {
   "cell_type": "markdown",
   "metadata": {},
   "source": [
    "## Boto3 + Spark"
   ]
  },
  {
   "cell_type": "code",
   "execution_count": 6,
   "metadata": {},
   "outputs": [],
   "source": [
    "sc = SparkSession.builder.appName('Untitled').getOrCreate().sparkContext\n",
    "rdd = sc.parallelize([i for i in range(20)])"
   ]
  },
  {
   "cell_type": "code",
   "execution_count": 18,
   "metadata": {},
   "outputs": [
    {
     "data": {
      "text/plain": [
       "'rEH.lq5JR498uSq2IMfqDCRd8wAjkSbhk0r6a_b6.EJOU6lYQJY2ZN3u4mtBc4TQMWDWmkRrRM9WwmPGjeSqUw--'"
      ]
     },
     "execution_count": 18,
     "metadata": {},
     "output_type": "execute_result"
    }
   ],
   "source": [
    "s3 = boto3.client('s3')\n",
    "mpu = s3.create_multipart_upload(Bucket='vmwishes-test',Key='junk2.dtb')\n",
    "mpu['UploadId']"
   ]
  },
  {
   "cell_type": "code",
   "execution_count": 19,
   "metadata": {},
   "outputs": [],
   "source": [
    "def upload_func(uploadId, n):\n",
    "    s3 = boto3.client('s3')\n",
    "    try:\n",
    "        part = s3.upload_part(Bucket='vmwishes-test',Key='junk2.dtb',\n",
    "                              PartNumber=n+1,\n",
    "                              UploadId=uploadId,\n",
    "                              Body=5400000*(n.to_bytes(1,byteorder='little')))\n",
    "    except Exception as e:\n",
    "        return f'caught:{e}  n={n}  uploadId={uploadId}'\n",
    "    \n",
    "    return part['ETag']"
   ]
  },
  {
   "cell_type": "code",
   "execution_count": 20,
   "metadata": {
    "scrolled": false
   },
   "outputs": [
    {
     "data": {
      "text/plain": [
       "['\"e4e80bf1a8de7278fabc4bf53886bc05\"',\n",
       " '\"54c39b5badf28f3c775a02f7c2d78e1f\"',\n",
       " '\"c851c4219420d2b8f2f710955fb56de5\"',\n",
       " '\"02d22b67104fcadfc965203fb80cdc1d\"',\n",
       " '\"a8da5c36041b5d25103319667d2a0c54\"',\n",
       " '\"e8c5d113a83d7e42ffe7d0e1df3e61dd\"',\n",
       " '\"9d5af2404a559f5fb956cccfb6966285\"',\n",
       " '\"2e63eb8b37f3d71e4240e5769d73203c\"',\n",
       " '\"a5539911783ad56099a58c275a8dae2d\"',\n",
       " '\"b19a63c6f68046dbfd0c4b3931b82eb1\"',\n",
       " '\"1ffc7fadb7897123f587fed226e4730c\"',\n",
       " '\"5db7ab3ed357e5a1d31fbd8a4ca326b3\"',\n",
       " '\"590a725a2aeca6c64744459814f5c6fb\"',\n",
       " '\"22226b8f9bf68e2ca24fa582407cc4b5\"',\n",
       " '\"a4c8eaeae6808ad523088ce78e27f15b\"',\n",
       " '\"535b2ea8a3c3416d153dad6445a95ef3\"',\n",
       " '\"ee8e5743208bdd5ff4ea3b354a0e69db\"',\n",
       " '\"2badfe70a30758cc9efa3236f933dd3f\"',\n",
       " '\"26d9d59cefc45055c7edb685cc36f445\"',\n",
       " '\"8ba328b001e041e5af659ec07b2bb787\"']"
      ]
     },
     "execution_count": 20,
     "metadata": {},
     "output_type": "execute_result"
    }
   ],
   "source": [
    "parts = rdd.map(partial(upload_func,mpu['UploadId'])).collect()\n",
    "parts"
   ]
  },
  {
   "cell_type": "code",
   "execution_count": 24,
   "metadata": {},
   "outputs": [
    {
     "data": {
      "text/plain": [
       "[{'PartNumber': 1, 'ETag': '\"e4e80bf1a8de7278fabc4bf53886bc05\"'},\n",
       " {'PartNumber': 2, 'ETag': '\"54c39b5badf28f3c775a02f7c2d78e1f\"'},\n",
       " {'PartNumber': 3, 'ETag': '\"c851c4219420d2b8f2f710955fb56de5\"'},\n",
       " {'PartNumber': 4, 'ETag': '\"02d22b67104fcadfc965203fb80cdc1d\"'},\n",
       " {'PartNumber': 5, 'ETag': '\"a8da5c36041b5d25103319667d2a0c54\"'},\n",
       " {'PartNumber': 6, 'ETag': '\"e8c5d113a83d7e42ffe7d0e1df3e61dd\"'},\n",
       " {'PartNumber': 7, 'ETag': '\"9d5af2404a559f5fb956cccfb6966285\"'},\n",
       " {'PartNumber': 8, 'ETag': '\"2e63eb8b37f3d71e4240e5769d73203c\"'},\n",
       " {'PartNumber': 9, 'ETag': '\"a5539911783ad56099a58c275a8dae2d\"'},\n",
       " {'PartNumber': 10, 'ETag': '\"b19a63c6f68046dbfd0c4b3931b82eb1\"'},\n",
       " {'PartNumber': 11, 'ETag': '\"1ffc7fadb7897123f587fed226e4730c\"'},\n",
       " {'PartNumber': 12, 'ETag': '\"5db7ab3ed357e5a1d31fbd8a4ca326b3\"'},\n",
       " {'PartNumber': 13, 'ETag': '\"590a725a2aeca6c64744459814f5c6fb\"'},\n",
       " {'PartNumber': 14, 'ETag': '\"22226b8f9bf68e2ca24fa582407cc4b5\"'},\n",
       " {'PartNumber': 15, 'ETag': '\"a4c8eaeae6808ad523088ce78e27f15b\"'},\n",
       " {'PartNumber': 16, 'ETag': '\"535b2ea8a3c3416d153dad6445a95ef3\"'},\n",
       " {'PartNumber': 17, 'ETag': '\"ee8e5743208bdd5ff4ea3b354a0e69db\"'},\n",
       " {'PartNumber': 18, 'ETag': '\"2badfe70a30758cc9efa3236f933dd3f\"'},\n",
       " {'PartNumber': 19, 'ETag': '\"26d9d59cefc45055c7edb685cc36f445\"'},\n",
       " {'PartNumber': 20, 'ETag': '\"8ba328b001e041e5af659ec07b2bb787\"'}]"
      ]
     },
     "execution_count": 24,
     "metadata": {},
     "output_type": "execute_result"
    }
   ],
   "source": [
    "part_info = [ { 'PartNumber':i+1, 'ETag':etag } for i,etag in enumerate(parts) ]\n",
    "part_info"
   ]
  },
  {
   "cell_type": "code",
   "execution_count": 25,
   "metadata": {},
   "outputs": [],
   "source": [
    "result = s3.complete_multipart_upload(Bucket='vmwishes-test',\n",
    "                                      Key='junk2.dtb',\n",
    "                                      MultipartUpload={'Parts':part_info},\n",
    "                                      UploadId=mpu['UploadId'])"
   ]
  },
  {
   "cell_type": "code",
   "execution_count": 26,
   "metadata": {},
   "outputs": [
    {
     "data": {
      "text/plain": [
       "{'ResponseMetadata': {'RequestId': 'HVZRBXJ6W510RGR9',\n",
       "  'HostId': '6PMi5P7Zb/Q3wQwE7EnHYLGaScf0Bs68uZLRQjw5SeglWL3T0t1oQ+BoeygXyadPUfxr7In3xGU=',\n",
       "  'HTTPStatusCode': 200,\n",
       "  'HTTPHeaders': {'x-amz-id-2': '6PMi5P7Zb/Q3wQwE7EnHYLGaScf0Bs68uZLRQjw5SeglWL3T0t1oQ+BoeygXyadPUfxr7In3xGU=',\n",
       "   'x-amz-request-id': 'HVZRBXJ6W510RGR9',\n",
       "   'date': 'Sun, 06 Jun 2021 18:21:37 GMT',\n",
       "   'content-type': 'application/xml',\n",
       "   'transfer-encoding': 'chunked',\n",
       "   'server': 'AmazonS3'},\n",
       "  'RetryAttempts': 0},\n",
       " 'Bucket': 'vmwishes-test',\n",
       " 'KeyMarker': '',\n",
       " 'UploadIdMarker': '',\n",
       " 'NextKeyMarker': '',\n",
       " 'NextUploadIdMarker': '',\n",
       " 'MaxUploads': 1000,\n",
       " 'IsTruncated': False}"
      ]
     },
     "execution_count": 26,
     "metadata": {},
     "output_type": "execute_result"
    }
   ],
   "source": [
    "s3.list_multipart_uploads(Bucket='vmwishes-test')"
   ]
  },
  {
   "cell_type": "code",
   "execution_count": 27,
   "metadata": {},
   "outputs": [
    {
     "data": {
      "text/plain": [
       "{'ResponseMetadata': {'RequestId': 'QRC119E7REBKNHYX',\n",
       "  'HostId': '90c4J3J0Lu6jbwnvKHDmaaG3QFIIfBshlt4oYY1Gfu+RIXPQbJmbirX4huMpOprHShzJClf/KZE=',\n",
       "  'HTTPStatusCode': 204,\n",
       "  'HTTPHeaders': {'x-amz-id-2': '90c4J3J0Lu6jbwnvKHDmaaG3QFIIfBshlt4oYY1Gfu+RIXPQbJmbirX4huMpOprHShzJClf/KZE=',\n",
       "   'x-amz-request-id': 'QRC119E7REBKNHYX',\n",
       "   'date': 'Sun, 06 Jun 2021 18:24:16 GMT',\n",
       "   'server': 'AmazonS3'},\n",
       "  'RetryAttempts': 0}}"
      ]
     },
     "execution_count": 27,
     "metadata": {},
     "output_type": "execute_result"
    }
   ],
   "source": [
    "s3.abort_multipart_upload(Bucket='vmwishes-test',\n",
    "                                      Key='junk2.dtb',\n",
    "                                      UploadId=mpu['UploadId'])"
   ]
  },
  {
   "cell_type": "code",
   "execution_count": 16,
   "metadata": {},
   "outputs": [
    {
     "data": {
      "text/plain": [
       "{'ResponseMetadata': {'RequestId': '7BVVHRCHASZDHX8N',\n",
       "  'HostId': '0HNoB8vjiJreCd02WQ5tK00fZk4B3rwP6yTx9gfW3WjS7+os//BtJ1u9uSjRl9ZsaeDiEateIIs=',\n",
       "  'HTTPStatusCode': 204,\n",
       "  'HTTPHeaders': {'x-amz-id-2': '0HNoB8vjiJreCd02WQ5tK00fZk4B3rwP6yTx9gfW3WjS7+os//BtJ1u9uSjRl9ZsaeDiEateIIs=',\n",
       "   'x-amz-request-id': '7BVVHRCHASZDHX8N',\n",
       "   'date': 'Sun, 06 Jun 2021 18:13:29 GMT',\n",
       "   'server': 'AmazonS3'},\n",
       "  'RetryAttempts': 0}}"
      ]
     },
     "execution_count": 16,
     "metadata": {},
     "output_type": "execute_result"
    }
   ],
   "source": [
    "s3.abort_multipart_upload(Bucket='vmwishes-test',\n",
    "                                      Key='junk2.dtb',\n",
    "                                      UploadId='hz_IQ7.wS1KAGkn1AqvV2LL98AZZc4Orjhj3AIq0xCep6vPVtzrP6NLGF5iNQvLT.h1ZTus54Gnpkrsj7JYk.g--')"
   ]
  },
  {
   "cell_type": "code",
   "execution_count": null,
   "metadata": {},
   "outputs": [],
   "source": []
  }
 ],
 "metadata": {
  "kernelspec": {
   "display_name": "Python 3",
   "language": "python",
   "name": "python3"
  },
  "language_info": {
   "codemirror_mode": {
    "name": "ipython",
    "version": 3
   },
   "file_extension": ".py",
   "mimetype": "text/x-python",
   "name": "python",
   "nbconvert_exporter": "python",
   "pygments_lexer": "ipython3",
   "version": "3.8.5"
  }
 },
 "nbformat": 4,
 "nbformat_minor": 4
}
