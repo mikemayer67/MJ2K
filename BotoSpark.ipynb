{
 "cells": [
  {
   "cell_type": "code",
   "execution_count": null,
   "metadata": {},
   "outputs": [],
   "source": [
    "import boto3\n",
    "import numpy as np\n",
    "from pyspark.sql import SparkSession\n",
    "from functools import partial"
   ]
  },
  {
   "cell_type": "markdown",
   "metadata": {},
   "source": [
    "## Spark alone"
   ]
  },
  {
   "cell_type": "code",
   "execution_count": null,
   "metadata": {},
   "outputs": [],
   "source": [
    "sc = SparkSession.builder.appName('Untitled').getOrCreate().sparkContext\n",
    "print(sc)"
   ]
  },
  {
   "cell_type": "code",
   "execution_count": null,
   "metadata": {},
   "outputs": [],
   "source": [
    "rdd = sc.parallelize([i for i in range(20)])"
   ]
  },
  {
   "cell_type": "code",
   "execution_count": null,
   "metadata": {},
   "outputs": [],
   "source": [
    "def gen_data(n):\n",
    "    return 20*(n.to_bytes(1,byteorder='little'))"
   ]
  },
  {
   "cell_type": "code",
   "execution_count": null,
   "metadata": {},
   "outputs": [],
   "source": [
    "blocks = rdd.map(gen_data)"
   ]
  },
  {
   "cell_type": "code",
   "execution_count": null,
   "metadata": {},
   "outputs": [],
   "source": [
    "blocks.collect()"
   ]
  },
  {
   "cell_type": "markdown",
   "metadata": {},
   "source": [
    "## Boto3 alone"
   ]
  },
  {
   "cell_type": "code",
   "execution_count": null,
   "metadata": {},
   "outputs": [],
   "source": [
    "s3 = boto3.client('s3')\n",
    "mpu = s3.create_multipart_upload(Bucket='vmwishes-test',Key='junk3.dtb')\n",
    "mpu['UploadId']"
   ]
  },
  {
   "cell_type": "code",
   "execution_count": null,
   "metadata": {},
   "outputs": [],
   "source": [
    "head_part = s3.upload_part(Bucket='vmwishes-test',Key='junk3.dtb',\n",
    "                           PartNumber=1,\n",
    "                           UploadId=mpu['UploadId'],\n",
    "                           Body=5400000*b'H')\n",
    "parts = [{ 'PartNumber':1, 'ETag':head_part['ETag']}]"
   ]
  },
  {
   "cell_type": "code",
   "execution_count": null,
   "metadata": {},
   "outputs": [],
   "source": [
    "for n in range(20):\n",
    "    np = s3.upload_part(Bucket='vmwishes-test',Key='junk3.dtb',\n",
    "                           PartNumber=2+n,\n",
    "                           UploadId=mpu['UploadId'],\n",
    "                           Body=5400000*(n.to_bytes(1,byteorder='little')))\n",
    "    \n",
    "    parts.append( {'PartNumber':2+n, 'ETag':np['ETag']} )\n",
    "    print(f\"Uploaded {n}: {np['ETag']}\")\n",
    "    "
   ]
  },
  {
   "cell_type": "code",
   "execution_count": null,
   "metadata": {},
   "outputs": [],
   "source": [
    "parts"
   ]
  },
  {
   "cell_type": "code",
   "execution_count": null,
   "metadata": {
    "scrolled": false
   },
   "outputs": [],
   "source": [
    "result = s3.complete_multipart_upload(Bucket='vmwishes-test',\n",
    "                                      Key='junk3.dtb',\n",
    "                                      MultipartUpload={'Parts':parts},\n",
    "                                      UploadId=mpu['UploadId'])"
   ]
  },
  {
   "cell_type": "code",
   "execution_count": null,
   "metadata": {},
   "outputs": [],
   "source": [
    "s3.abort_multipart_upload(Bucket='vmwishes-test',\n",
    "                                      Key='junk.dtb',\n",
    "                                      UploadId=mpu['UploadId'])"
   ]
  },
  {
   "cell_type": "code",
   "execution_count": null,
   "metadata": {},
   "outputs": [],
   "source": [
    "s3.list_multipart_uploads(Bucket='vmwishes-test')"
   ]
  },
  {
   "cell_type": "markdown",
   "metadata": {},
   "source": [
    "## Boto3 + Spark"
   ]
  },
  {
   "cell_type": "code",
   "execution_count": null,
   "metadata": {},
   "outputs": [],
   "source": [
    "sc = SparkSession.builder.appName('Untitled').getOrCreate().sparkContext\n",
    "rdd = sc.parallelize([i for i in range(20)])"
   ]
  },
  {
   "cell_type": "code",
   "execution_count": null,
   "metadata": {},
   "outputs": [],
   "source": [
    "s3 = boto3.client('s3')\n",
    "mpu = s3.create_multipart_upload(Bucket='vmwishes-test',Key='junk4.dtb')\n",
    "mpu['UploadId']"
   ]
  },
  {
   "cell_type": "code",
   "execution_count": null,
   "metadata": {},
   "outputs": [],
   "source": [
    "def upload_func(uploadId, n):\n",
    "    s3 = boto3.client('s3')\n",
    "    try:\n",
    "        part = s3.upload_part(Bucket='vmwishes-test',Key='junk4.dtb',\n",
    "                              PartNumber=n+1,\n",
    "                              UploadId=uploadId,\n",
    "                              Body=5400000*(n.to_bytes(1,byteorder='little')))\n",
    "    except Exception as e:\n",
    "        return f'caught:{e}  n={n}  uploadId={uploadId}'\n",
    "    \n",
    "    return part['ETag']"
   ]
  },
  {
   "cell_type": "code",
   "execution_count": null,
   "metadata": {
    "scrolled": false
   },
   "outputs": [],
   "source": [
    "parts = rdd.map(partial(upload_func,mpu['UploadId'])).collect()\n",
    "parts"
   ]
  },
  {
   "cell_type": "code",
   "execution_count": null,
   "metadata": {},
   "outputs": [],
   "source": [
    "part_info = [ { 'PartNumber':i+1, 'ETag':etag } for i,etag in enumerate(parts) ]\n",
    "part_info"
   ]
  },
  {
   "cell_type": "code",
   "execution_count": null,
   "metadata": {},
   "outputs": [],
   "source": [
    "result = s3.complete_multipart_upload(Bucket='vmwishes-test',\n",
    "                                      Key='junk4.dtb',\n",
    "                                      MultipartUpload={'Parts':part_info},\n",
    "                                      UploadId=mpu['UploadId'])"
   ]
  },
  {
   "cell_type": "code",
   "execution_count": null,
   "metadata": {},
   "outputs": [],
   "source": [
    "s3.list_multipart_uploads(Bucket='vmwishes-test')"
   ]
  },
  {
   "cell_type": "code",
   "execution_count": null,
   "metadata": {},
   "outputs": [],
   "source": [
    "s3.abort_multipart_upload(Bucket='vmwishes-test',\n",
    "                                      Key='junk2.dtb',\n",
    "                                      UploadId=mpu['UploadId'])"
   ]
  },
  {
   "cell_type": "code",
   "execution_count": null,
   "metadata": {},
   "outputs": [],
   "source": []
  }
 ],
 "metadata": {
  "kernelspec": {
   "display_name": "Python 3",
   "language": "python",
   "name": "python3"
  },
  "language_info": {
   "codemirror_mode": {
    "name": "ipython",
    "version": 3
   },
   "file_extension": ".py",
   "mimetype": "text/x-python",
   "name": "python",
   "nbconvert_exporter": "python",
   "pygments_lexer": "ipython3",
   "version": "3.6.8"
  }
 },
 "nbformat": 4,
 "nbformat_minor": 4
}
