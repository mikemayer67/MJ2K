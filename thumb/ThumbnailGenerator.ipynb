{
 "cells": [
  {
   "cell_type": "code",
   "execution_count": 1,
   "metadata": {},
   "outputs": [],
   "source": [
    "import numpy as np\n",
    "import math\n",
    "from copy import deepcopy"
   ]
  },
  {
   "cell_type": "markdown",
   "metadata": {},
   "source": [
    "### Thumbnail Inputs"
   ]
  },
  {
   "cell_type": "code",
   "execution_count": 2,
   "metadata": {},
   "outputs": [],
   "source": [
    "j2k_file = (\"beach_4x4.j2k\",\"sunrise_6x6.j2k\")[1]\n",
    "tgt_thumb_size = 1024"
   ]
  },
  {
   "cell_type": "markdown",
   "metadata": {},
   "source": [
    "### Algorithm Classes and Functions"
   ]
  },
  {
   "cell_type": "code",
   "execution_count": 3,
   "metadata": {},
   "outputs": [],
   "source": [
    "def read_marker(advance=True):\n",
    "    global im_cs\n",
    "    m = im_cs[:2]\n",
    "    if advance:\n",
    "        im_cs = im_cs[2:]\n",
    "    return m\n",
    "\n",
    "def read_int(nbytes,advance=True):\n",
    "    global im_cs\n",
    "    v = int.from_bytes(im_cs[:nbytes],\"big\")\n",
    "    if advance:\n",
    "        im_cs = im_cs[nbytes:]\n",
    "    return v\n",
    "\n",
    "def read_bytes(nbytes,advance=True):\n",
    "    global im_cs\n",
    "    v = im_cs[:nbytes]\n",
    "    if advance:\n",
    "        im_cs = im_cs[nbytes:]\n",
    "    return v\n",
    "\n",
    "def dump_marker(m):\n",
    "    return m.to_bytes(2,\"big\")\n",
    "\n",
    "def dump_int(v,n):\n",
    "    return v.to_bytes(n,\"big\")"
   ]
  },
  {
   "cell_type": "code",
   "execution_count": 4,
   "metadata": {},
   "outputs": [],
   "source": [
    "SIZ = b'\\xff\\x51'\n",
    "\n",
    "class SIZMarker:\n",
    "    def __init__(self):\n",
    "        self.SIZ = read_marker()\n",
    "        if self.SIZ != SIZ:\n",
    "            raise Exception(\"ERROR... Codestream missing SIZ\")\n",
    "        \n",
    "        self.Lsiz = read_int(2)\n",
    "        self.Rsiz = read_int(2)\n",
    "        self.Xsiz = read_int(4)\n",
    "        self.Ysiz = read_int(4)\n",
    "        self.XOsiz = read_int(4)\n",
    "        self.YOsiz = read_int(4)\n",
    "        self.XTsiz = read_int(4)\n",
    "        self.YTsiz = read_int(4)\n",
    "        self.XTOsiz = read_int(4)\n",
    "        self.YTOsiz = read_int(4)\n",
    "        self.Csiz = read_int(2)\n",
    "        self.Ssiz = []\n",
    "        self.XRsiz = []\n",
    "        self.YRsiz = []\n",
    "        for _ in range(self.Csiz):\n",
    "            ssiz = read_int(1)\n",
    "            xrsiz = read_int(1)\n",
    "            yrsiz = read_int(1)\n",
    "            self.Ssiz.append(ssiz)\n",
    "            self.XRsiz.append(xrsiz)\n",
    "            self.YRsiz.append(yrsiz)\n",
    "            \n",
    "    def clone(self):\n",
    "        return deepcopy(self)\n",
    "            \n",
    "    def set_thumb(self,step_size):\n",
    "        self.XRsiz = [step_size for _ in range(self.Csiz)]\n",
    "        self.YRsiz = [step_size for _ in range(self.Csiz)]\n",
    "        \n",
    "    def to_bytes(self):\n",
    "        return ( SIZ\n",
    "            + dump_int(self.Lsiz,2)\n",
    "            + dump_int(self.Rsiz,2)\n",
    "            + dump_int(self.Xsiz,4)\n",
    "            + dump_int(self.Ysiz,4)\n",
    "            + dump_int(self.XOsiz,4)\n",
    "            + dump_int(self.YOsiz,4)\n",
    "            + dump_int(self.XTsiz,4)\n",
    "            + dump_int(self.YTsiz,4)\n",
    "            + dump_int(self.XTOsiz,4)\n",
    "            + dump_int(self.YTOsiz,4)\n",
    "            + dump_int(self.Csiz,2)\n",
    "            + b\"\".join([dump_int(s,1)+dump_int(xr,1)+dump_int(yr,1)\n",
    "                        for s,xr,yr in zip(self.Ssiz,self.XRsiz,self.YRsiz)])\n",
    "        )"
   ]
  },
  {
   "cell_type": "code",
   "execution_count": 5,
   "metadata": {},
   "outputs": [],
   "source": [
    "COD = b'\\xff\\x52'\n",
    "class CODMarker():\n",
    "    def __init__(self):\n",
    "        m = read_marker()\n",
    "        if m != COD:\n",
    "            raise Exception(f\"ERROR... incorrect marker. Found {m.hex()}. Expected COD\")\n",
    "        self.Lcod = read_int(2)\n",
    "        if self.Lcod != 12:\n",
    "            raise Exception(f\"Sorry... need to expand COD, Cannot handle Lcod={self.Lcod}\")\n",
    "        self.Scod = read_int(1)\n",
    "        self.prog_order = read_int(1)\n",
    "        self.nlayers = read_int(2)\n",
    "        self.mcomp = read_int(1)\n",
    "        self.nlevels = read_int(1)\n",
    "        self.cbwidth = read_int(1)\n",
    "        self.cbheight = read_int(1)\n",
    "        self.cbstyle = read_int(1)\n",
    "        self.wavelet = read_int(1)\n",
    "        self.wavelet = \"NL\" if self.wavelet == 1 else \"VL\"\n",
    "            \n",
    "    def clone(self):\n",
    "        return deepcopy(self)\n",
    "    \n",
    "    def set_thumb(self,ndecomp):\n",
    "        self.prog_order = 1\n",
    "        self.nlevels -= ndecomp\n",
    "        \n",
    "    def to_bytes(self):\n",
    "        return (\n",
    "            COD \n",
    "            + dump_int(self.Lcod,2)\n",
    "            + dump_int(self.Scod,1)\n",
    "            + dump_int(self.prog_order,1)\n",
    "            + dump_int(self.nlayers,2)\n",
    "            + dump_int(self.mcomp,1)\n",
    "            + dump_int(self.nlevels,1)\n",
    "            + dump_int(self.cbwidth,1)\n",
    "            + dump_int(self.cbheight,1)\n",
    "            + dump_int(self.cbstyle,1)\n",
    "            + dump_int(1 if self.wavelet==\"NL\" else 0,1)\n",
    "            )"
   ]
  },
  {
   "cell_type": "code",
   "execution_count": 6,
   "metadata": {},
   "outputs": [],
   "source": [
    "QCD = b'\\xff\\x5c'\n",
    "class QCDMarker():\n",
    "    def __init__(self):\n",
    "        m = read_marker()\n",
    "        if m != QCD:\n",
    "            raise Exception(f\"ERROR... incorrect marker. Found {m.hex()}. Expected QCD\")\n",
    "        self.Lqcd = read_int(2)\n",
    "        self.data = read_bytes(self.Lqcd-2)\n",
    "        \n",
    "    def to_bytes(self):\n",
    "        return (\n",
    "            QCD\n",
    "            + dump_int(self.Lqcd,2)\n",
    "            + self.data\n",
    "        )"
   ]
  },
  {
   "cell_type": "code",
   "execution_count": 7,
   "metadata": {
    "scrolled": true
   },
   "outputs": [],
   "source": [
    "COM = b'\\xff\\x64'\n",
    "class COMMarker():\n",
    "    def __init__(self):\n",
    "        m = read_marker()\n",
    "        if m != COM:\n",
    "            raise Exception(f\"ERROR... incorrect marker. Found {m.hex()}. Expected COM\")\n",
    "        self.Lcom = read_int(2)\n",
    "        self.Rcom = read_int(2)\n",
    "        self.data = read_bytes(self.Lcom-4)\n",
    "        \n",
    "    def to_bytes(self):\n",
    "        return (\n",
    "            COM\n",
    "            + dump_int(self.Lcom,2)\n",
    "            + dump_int(self.Rcom,2)\n",
    "            + self.data\n",
    "        )"
   ]
  },
  {
   "cell_type": "code",
   "execution_count": 8,
   "metadata": {},
   "outputs": [],
   "source": [
    "class SOTMarker():\n",
    "    def __init__(self,*,Isot=None,Psot=None,TPsot=None,TNsot=0):\n",
    "        if Isot is None:\n",
    "            m = read_marker()\n",
    "            if m != SOT:\n",
    "                raise Exception(f\"ERROR... incorrect marker. Found {m.hex()}. Expected SOT\")\n",
    "            self.Lsot = read_int(2)\n",
    "            self.Isot = read_int(2)\n",
    "            self.Psot = read_int(4)\n",
    "            self.TPsot = read_int(1)\n",
    "            self.TNsot = read_int(1)\n",
    "        else:\n",
    "            self.Lsot = 10\n",
    "            self.Isot = Isot\n",
    "            self.Psot = Psot\n",
    "            self.TPsot = TPsot\n",
    "            self.TNsot = TNsot\n",
    "        \n",
    "    def to_bytes(self):\n",
    "        return (\n",
    "            SOT\n",
    "            + dump_int(self.Lsot,2)\n",
    "            + dump_int(self.Isot,2)\n",
    "            + dump_int(self.Psot,4)\n",
    "            + dump_int(self.TPsot,1)\n",
    "            + dump_int(self.TNsot,1)\n",
    "        )\n",
    "    "
   ]
  },
  {
   "cell_type": "code",
   "execution_count": 9,
   "metadata": {},
   "outputs": [],
   "source": [
    "PLT = b'\\xff\\x58'\n",
    "class PLTMarker():\n",
    "    def __init__(self,*,iplt=None):\n",
    "        if iplt is None:\n",
    "            m = read_marker()\n",
    "            if m != PLT:\n",
    "                raise Exception(f\"ERROR... incorrect marker. Found {m.hex()}. Expected PLT\")\n",
    "            self.Lplt = read_int(2)\n",
    "            self.Zplt = read_int(1)\n",
    "            self.Iplt_raw = read_bytes(self.Lplt-3,advance=False)\n",
    "            self.Iplt = []\n",
    "            iplt = 0\n",
    "            for i in range(self.Lplt-3):\n",
    "                n = read_int(1)\n",
    "                c,n = divmod(n,128)\n",
    "                iplt = 128*iplt + n\n",
    "                if not c:\n",
    "                    self.Iplt.append(iplt)\n",
    "                    iplt = 0\n",
    "        else:\n",
    "            global debug_plt\n",
    "            self.Zplt = 0\n",
    "            self.Iplt = iplt\n",
    "            iplt_raw = b\"\"\n",
    "            for x in iplt:\n",
    "                t=[]\n",
    "                f=1\n",
    "                while x > 0:\n",
    "                    x,b7 = divmod(x,128)\n",
    "                    t.append(128+b7)\n",
    "                t[0] -= 128\n",
    "                t.reverse()\n",
    "                iplt_raw = iplt_raw + b\"\".join([tt.to_bytes(1,\"big\") for tt in t])\n",
    "            self.Iplt_raw = iplt_raw\n",
    "            self.Lplt = len(iplt_raw) + 3\n",
    "            \n",
    "    def to_bytes(self):\n",
    "        return (\n",
    "            PLT\n",
    "            + dump_int(self.Lplt,2)\n",
    "            + dump_int(self.Zplt,1)\n",
    "            + self.Iplt_raw\n",
    "        )"
   ]
  },
  {
   "cell_type": "markdown",
   "metadata": {},
   "source": [
    "### Import J2K Image"
   ]
  },
  {
   "cell_type": "code",
   "execution_count": 10,
   "metadata": {},
   "outputs": [
    {
     "ename": "FileNotFoundError",
     "evalue": "[Errno 2] No such file or directory: 'sunrise_6x6.j2k'",
     "output_type": "error",
     "traceback": [
      "\u001b[0;31m---------------------------------------------------------------------------\u001b[0m",
      "\u001b[0;31mFileNotFoundError\u001b[0m                         Traceback (most recent call last)",
      "\u001b[0;32m/tmp/ipykernel_1060216/3409475976.py\u001b[0m in \u001b[0;36m<module>\u001b[0;34m\u001b[0m\n\u001b[0;32m----> 1\u001b[0;31m \u001b[0;32mwith\u001b[0m \u001b[0mopen\u001b[0m\u001b[0;34m(\u001b[0m\u001b[0mj2k_file\u001b[0m\u001b[0;34m,\u001b[0m\u001b[0;34m\"rb\"\u001b[0m\u001b[0;34m)\u001b[0m \u001b[0;32mas\u001b[0m \u001b[0mfile\u001b[0m\u001b[0;34m:\u001b[0m\u001b[0;34m\u001b[0m\u001b[0;34m\u001b[0m\u001b[0m\n\u001b[0m\u001b[1;32m      2\u001b[0m     \u001b[0mim_cs\u001b[0m \u001b[0;34m=\u001b[0m \u001b[0mfile\u001b[0m\u001b[0;34m.\u001b[0m\u001b[0mread\u001b[0m\u001b[0;34m(\u001b[0m\u001b[0;34m)\u001b[0m\u001b[0;34m\u001b[0m\u001b[0;34m\u001b[0m\u001b[0m\n\u001b[1;32m      3\u001b[0m \u001b[0;34m\u001b[0m\u001b[0m\n\u001b[1;32m      4\u001b[0m \u001b[0morig_j2k_len\u001b[0m \u001b[0;34m=\u001b[0m \u001b[0mlen\u001b[0m\u001b[0;34m(\u001b[0m\u001b[0mim_cs\u001b[0m\u001b[0;34m)\u001b[0m\u001b[0;34m\u001b[0m\u001b[0;34m\u001b[0m\u001b[0m\n",
      "\u001b[0;31mFileNotFoundError\u001b[0m: [Errno 2] No such file or directory: 'sunrise_6x6.j2k'"
     ]
    }
   ],
   "source": [
    "with open(j2k_file,\"rb\") as file:\n",
    "    im_cs = file.read()\n",
    "    \n",
    "orig_j2k_len = len(im_cs)"
   ]
  },
  {
   "cell_type": "markdown",
   "metadata": {},
   "source": [
    "### Read Main Header"
   ]
  },
  {
   "cell_type": "code",
   "execution_count": null,
   "metadata": {},
   "outputs": [],
   "source": [
    "SOC = b'\\xff\\x4f'\n",
    "\n",
    "soc = read_marker()\n",
    "if soc != SOC:\n",
    "    raise Exception(\"ERROR... Codestream doesn't start with SOC\")\n",
    "    \n",
    "siz = SIZMarker()\n",
    "\n",
    "SOT = b'\\xff\\x90'\n",
    "\n",
    "marker = read_marker(advance=False)\n",
    "while marker != SOT:\n",
    "    if marker == COD:\n",
    "        cod = CODMarker()\n",
    "    elif marker == QCD:\n",
    "        qcd = QCDMarker()\n",
    "    elif marker == COM:\n",
    "        com = COMMarker()\n",
    "    else:\n",
    "        im_cs = im_cs_hold\n",
    "        raise Exception(f\"Need to add marker {marker.hex()}\")\n",
    "    marker = read_marker(advance=False)"
   ]
  },
  {
   "cell_type": "markdown",
   "metadata": {},
   "source": [
    "### Loop Over Tiles"
   ]
  },
  {
   "cell_type": "code",
   "execution_count": null,
   "metadata": {},
   "outputs": [],
   "source": [
    "EOC = b'\\xff\\xd9'\n",
    "SOD = b'\\xff\\x93'\n",
    "tile_parts = []\n",
    "\n",
    "while marker == SOT:\n",
    "    sot = SOTMarker()\n",
    "    plt_list = []\n",
    "    \n",
    "    len_data = sot.Psot - (sot.Lsot + 2)\n",
    "    \n",
    "    marker = read_marker(advance=False)\n",
    "    while marker not in (EOC,SOT):\n",
    "        if marker == PLT:\n",
    "            plt = PLTMarker()\n",
    "            plt_list.append(plt)\n",
    "            len_data -= plt.Lplt + 2 \n",
    "        elif marker == SOD:\n",
    "            len_data -= 2\n",
    "            data = im_cs[2:2+len_data]\n",
    "            im_cs = im_cs[2+len_data:]\n",
    "        else:\n",
    "            raise Exception(f\"Need to add handler for {marker.hex()}\")\n",
    "        marker = read_marker(advance=False)\n",
    "        \n",
    "    iplt = [x for xx in plt_list for x in xx.Iplt]\n",
    "        \n",
    "    tile_parts.append({\n",
    "        'sot':sot,\n",
    "        'iplt':iplt,\n",
    "        'data':data,\n",
    "    })\n",
    "        \n",
    "    if marker == EOC:\n",
    "        break\n",
    "    \n",
    "if marker != EOC:\n",
    "    raise Exception(\"Codestream doesn't end with EOC\")"
   ]
  },
  {
   "cell_type": "markdown",
   "metadata": {},
   "source": [
    "### Extract Packets"
   ]
  },
  {
   "cell_type": "code",
   "execution_count": null,
   "metadata": {},
   "outputs": [],
   "source": [
    "packets = dict()\n",
    "ncomp = siz.Csiz\n",
    "nlayers = cod.nlayers\n",
    "nlevels = cod.nlevels+1\n",
    "for tp in tile_parts:\n",
    "    tile_index = tp['sot'].Isot\n",
    "    lims = [0] + np.cumsum(tp['iplt']).tolist()\n",
    "    for L in range(nlayers):\n",
    "        for R in range(nlevels):\n",
    "            for C in range(ncomp):\n",
    "                packet_index = ncomp*(nlevels * L + R) + C\n",
    "                start = lims[packet_index]\n",
    "                end = lims[packet_index+1]\n",
    "                packets[(tile_index,L,R,C)] = tp['data'][start:end]"
   ]
  },
  {
   "cell_type": "markdown",
   "metadata": {},
   "source": [
    "### Update Main Headers"
   ]
  },
  {
   "cell_type": "code",
   "execution_count": null,
   "metadata": {},
   "outputs": [],
   "source": [
    "# Determine decomp level\n",
    "orig_size = (siz.Ysiz,siz.Xsiz)\n",
    "\n",
    "ndecomp = min(nlevels-1,max(int(math.log(x/tgt_thumb_size)) for x in orig_size))\n",
    "thumb_step = 2**ndecomp\n",
    "thumb_size = tuple(x//thumb_step for x in orig_size)\n",
    "\n",
    "(ndecomp,thumb_step,thumb_size)"
   ]
  },
  {
   "cell_type": "code",
   "execution_count": null,
   "metadata": {},
   "outputs": [],
   "source": [
    "thumb_siz = siz.clone()\n",
    "thumb_siz.set_thumb(step_size=thumb_step)\n",
    "\n",
    "thumb_cod = cod.clone()\n",
    "thumb_cod.set_thumb(ndecomp=ndecomp)\n"
   ]
  },
  {
   "cell_type": "code",
   "execution_count": null,
   "metadata": {},
   "outputs": [],
   "source": [
    "thumb_j2k = SOC + thumb_siz.to_bytes() + thumb_cod.to_bytes() + qcd.to_bytes() + com.to_bytes()"
   ]
  },
  {
   "cell_type": "markdown",
   "metadata": {},
   "source": [
    "### Build Tile Parts"
   ]
  },
  {
   "cell_type": "code",
   "execution_count": null,
   "metadata": {
    "scrolled": false
   },
   "outputs": [],
   "source": [
    "ntiles = len(tile_parts)\n",
    "TNsot = nlevels - ndecomp\n",
    "thumb_tile_parts = []\n",
    "for R in range(TNsot):\n",
    "    for T in range(ntiles):\n",
    "        psot = 14\n",
    "        iplt = []\n",
    "        data = b\"\"\n",
    "        for L in range(nlayers):\n",
    "            for C in range(ncomp):\n",
    "                packet = packets[(T,L,R,C)]\n",
    "                data = data + packet\n",
    "                packet_len = len(packet)\n",
    "                psot += packet_len\n",
    "                iplt.append(packet_len)\n",
    "                \n",
    "        tp_plt = PLTMarker(iplt=iplt)\n",
    "        psot += tp_plt.Lplt + 2\n",
    "        tp_sot = SOTMarker(Isot=T,Psot=psot,TPsot=R,TNsot=TNsot)\n",
    "        \n",
    "        thumb_j2k = (\n",
    "            thumb_j2k\n",
    "            + tp_sot.to_bytes()\n",
    "            + tp_plt.to_bytes()\n",
    "            + SOD\n",
    "            + data\n",
    "        )\n",
    "        \n",
    "thumb_j2k += EOC"
   ]
  },
  {
   "cell_type": "markdown",
   "metadata": {},
   "source": [
    "### Export Thumb J2k"
   ]
  },
  {
   "cell_type": "code",
   "execution_count": null,
   "metadata": {},
   "outputs": [],
   "source": [
    "thumb_file = j2k_file[:-4] + \".thumb.j2k\"\n",
    "with open(thumb_file,\"wb\") as file:\n",
    "    file.write(thumb_j2k)"
   ]
  },
  {
   "cell_type": "code",
   "execution_count": null,
   "metadata": {},
   "outputs": [],
   "source": [
    "(len(thumb_j2k),orig_j2k_len,len(thumb_j2k)/orig_j2k_len)"
   ]
  }
 ],
 "metadata": {
  "kernelspec": {
   "display_name": "Python 3 (ipykernel)",
   "language": "python",
   "name": "python3"
  },
  "language_info": {
   "codemirror_mode": {
    "name": "ipython",
    "version": 3
   },
   "file_extension": ".py",
   "mimetype": "text/x-python",
   "name": "python",
   "nbconvert_exporter": "python",
   "pygments_lexer": "ipython3",
   "version": "3.9.7"
  }
 },
 "nbformat": 4,
 "nbformat_minor": 4
}
