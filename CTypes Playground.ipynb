{
 "cells": [
  {
   "cell_type": "code",
   "execution_count": null,
   "metadata": {},
   "outputs": [],
   "source": [
    "import ctypes\n",
    "from ctypes import cdll, create_string_buffer, byref\n",
    "from ctypes import Structure, Union, POINTER\n",
    "from ctypes import c_int, c_char, c_void_p, c_char_p"
   ]
  },
  {
   "cell_type": "code",
   "execution_count": null,
   "metadata": {},
   "outputs": [],
   "source": [
    "hello = cdll.LoadLibrary('libhello.so')\n",
    "libc_path = ctypes.util.find_library('c')\n",
    "libc = cdll.LoadLibrary(libc_path)\n",
    "(libc_path,libc)"
   ]
  },
  {
   "cell_type": "code",
   "execution_count": null,
   "metadata": {},
   "outputs": [],
   "source": [
    "hello.hello_world.restype = ctypes.c_char_p\n",
    "r = hello.hello_world()\n",
    "print(r.decode('utf-8'))"
   ]
  },
  {
   "cell_type": "code",
   "execution_count": null,
   "metadata": {},
   "outputs": [],
   "source": [
    "test_strings = [\"Mike\",\"Valerie\",'Gus','World','Nobody']\n",
    "\n",
    "hello.hello.restype = ctypes.c_char_p\n",
    "\n",
    "for s in test_strings:\n",
    "    bs = s.encode('ASCII')\n",
    "    dst = create_string_buffer(64)\n",
    "    r = hello.hello(bs,byref(dst))\n",
    "    \n",
    "    print((r,dst.raw.decode('ascii').rstrip('\\x00')))"
   ]
  },
  {
   "cell_type": "code",
   "execution_count": null,
   "metadata": {},
   "outputs": [],
   "source": [
    "my_int = c_int\n",
    "\n",
    "class VERSION(Union):\n",
    "    _fields_ = [('n',c_int),('c',c_char)]\n",
    "    \n",
    "class STATS(Structure):\n",
    "    _fields_ = [('length',c_int),\n",
    "               ('num_calls',c_int),\n",
    "               ('last_result',c_char_p),\n",
    "               ('version',VERSION)]\n",
    "    \n",
    "hello.stats.restype = c_void_p\n",
    "\n",
    "rs = hello.stats()\n",
    "print(rs)\n",
    "rs = STATS.from_address(rs)\n",
    "print(rs)"
   ]
  },
  {
   "cell_type": "code",
   "execution_count": null,
   "metadata": {},
   "outputs": [],
   "source": [
    "(rs.length, rs.num_calls, rs.last_result, rs.version.n, rs.version.c)"
   ]
  },
  {
   "cell_type": "code",
   "execution_count": null,
   "metadata": {},
   "outputs": [],
   "source": [
    "from enum import Enum\n",
    "class my_enum(Enum):\n",
    "    A = 0\n",
    "    B = 1\n",
    "    Q = 6\n",
    "    _ctype = c_int"
   ]
  },
  {
   "cell_type": "code",
   "execution_count": null,
   "metadata": {},
   "outputs": [],
   "source": [
    "my_enum._ctype"
   ]
  },
  {
   "cell_type": "code",
   "execution_count": null,
   "metadata": {},
   "outputs": [],
   "source": [
    "q = c_int\n",
    "q"
   ]
  },
  {
   "cell_type": "code",
   "execution_count": null,
   "metadata": {},
   "outputs": [],
   "source": []
  }
 ],
 "metadata": {
  "kernelspec": {
   "display_name": "Python 3",
   "language": "python",
   "name": "python3"
  },
  "language_info": {
   "codemirror_mode": {
    "name": "ipython",
    "version": 3
   },
   "file_extension": ".py",
   "mimetype": "text/x-python",
   "name": "python",
   "nbconvert_exporter": "python",
   "pygments_lexer": "ipython3",
   "version": "3.6.8"
  }
 },
 "nbformat": 4,
 "nbformat_minor": 4
}
